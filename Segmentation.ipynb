{
 "cells": [
  {
   "cell_type": "markdown",
   "metadata": {},
   "source": [
    "<br />"
   ]
  },
  {
   "cell_type": "markdown",
   "metadata": {},
   "source": [
    "<br />"
   ]
  },
  {
   "cell_type": "markdown",
   "metadata": {},
   "source": [
    "![](slides/slide0.png)"
   ]
  },
  {
   "cell_type": "markdown",
   "metadata": {},
   "source": [
    "<br />"
   ]
  },
  {
   "cell_type": "markdown",
   "metadata": {},
   "source": [
    "<br />"
   ]
  },
  {
   "cell_type": "markdown",
   "metadata": {},
   "source": [
    "<br />"
   ]
  },
  {
   "cell_type": "markdown",
   "metadata": {},
   "source": [
    "<br />"
   ]
  },
  {
   "cell_type": "markdown",
   "metadata": {},
   "source": [
    "![](slides/slide1.png)"
   ]
  },
  {
   "cell_type": "markdown",
   "metadata": {},
   "source": [
    "<br />"
   ]
  },
  {
   "cell_type": "markdown",
   "metadata": {},
   "source": [
    "<br />"
   ]
  },
  {
   "cell_type": "markdown",
   "metadata": {},
   "source": [
    "<br />"
   ]
  },
  {
   "cell_type": "markdown",
   "metadata": {},
   "source": [
    "<br />"
   ]
  },
  {
   "cell_type": "markdown",
   "metadata": {},
   "source": [
    "![](slides/slide2.png)"
   ]
  },
  {
   "cell_type": "markdown",
   "metadata": {},
   "source": [
    "<br />"
   ]
  },
  {
   "cell_type": "markdown",
   "metadata": {},
   "source": [
    "<br />"
   ]
  },
  {
   "cell_type": "markdown",
   "metadata": {},
   "source": [
    "<br />"
   ]
  },
  {
   "cell_type": "markdown",
   "metadata": {},
   "source": [
    "<br />"
   ]
  },
  {
   "cell_type": "markdown",
   "metadata": {},
   "source": [
    "![](slides/slide3.png)"
   ]
  },
  {
   "cell_type": "markdown",
   "metadata": {},
   "source": [
    "<br />"
   ]
  },
  {
   "cell_type": "markdown",
   "metadata": {},
   "source": [
    "<br />"
   ]
  },
  {
   "cell_type": "markdown",
   "metadata": {},
   "source": [
    "<br />"
   ]
  },
  {
   "cell_type": "markdown",
   "metadata": {},
   "source": [
    "<br />"
   ]
  },
  {
   "cell_type": "markdown",
   "metadata": {},
   "source": [
    "![](slides/slide4.png)"
   ]
  },
  {
   "cell_type": "markdown",
   "metadata": {},
   "source": [
    "<br />"
   ]
  },
  {
   "cell_type": "markdown",
   "metadata": {},
   "source": [
    "<br />"
   ]
  },
  {
   "cell_type": "markdown",
   "metadata": {},
   "source": [
    "<br />"
   ]
  },
  {
   "cell_type": "markdown",
   "metadata": {},
   "source": [
    "<br />"
   ]
  },
  {
   "cell_type": "markdown",
   "metadata": {},
   "source": [
    "![](slides/slide52.png)"
   ]
  },
  {
   "cell_type": "markdown",
   "metadata": {},
   "source": [
    "<br />"
   ]
  },
  {
   "cell_type": "markdown",
   "metadata": {},
   "source": [
    "<br />"
   ]
  },
  {
   "cell_type": "markdown",
   "metadata": {},
   "source": [
    "<br />"
   ]
  },
  {
   "cell_type": "markdown",
   "metadata": {},
   "source": [
    "<br />"
   ]
  },
  {
   "cell_type": "markdown",
   "metadata": {},
   "source": [
    "![](slides/slide62.png)"
   ]
  },
  {
   "cell_type": "markdown",
   "metadata": {},
   "source": [
    "<br />"
   ]
  },
  {
   "cell_type": "markdown",
   "metadata": {},
   "source": [
    "<br />"
   ]
  },
  {
   "cell_type": "markdown",
   "metadata": {},
   "source": [
    "<br />"
   ]
  },
  {
   "cell_type": "markdown",
   "metadata": {},
   "source": [
    "<br />"
   ]
  },
  {
   "cell_type": "code",
   "execution_count": 1,
   "metadata": {},
   "outputs": [],
   "source": [
    "from functools import reduce\n",
    "import matplotlib.pyplot as plt\n",
    "import numpy as np\n",
    "import pandas as pd\n",
    "from scipy import stats\n",
    "\n",
    "from sklearn import preprocessing\n",
    "from sklearn.cluster import KMeans\n",
    "from sklearn.metrics import calinski_harabaz_score, silhouette_score\n",
    "from sklearn.decomposition import PCA\n",
    "\n",
    "import warnings\n",
    "\n",
    "warnings.filterwarnings('ignore')\n",
    "%matplotlib inline\n"
   ]
  },
  {
   "cell_type": "code",
   "execution_count": 2,
   "metadata": {},
   "outputs": [],
   "source": [
    "plt.rcParams['figure.figsize'] = (12, 8)\n"
   ]
  },
  {
   "cell_type": "markdown",
   "metadata": {},
   "source": [
    "<br />"
   ]
  },
  {
   "cell_type": "markdown",
   "metadata": {},
   "source": [
    "<br />"
   ]
  },
  {
   "cell_type": "markdown",
   "metadata": {},
   "source": [
    "<br />"
   ]
  },
  {
   "cell_type": "markdown",
   "metadata": {},
   "source": [
    "<br />"
   ]
  },
  {
   "cell_type": "markdown",
   "metadata": {},
   "source": [
    "## Some Functions\n",
    "\n",
    "Often used data prep functions. "
   ]
  },
  {
   "cell_type": "code",
   "execution_count": 3,
   "metadata": {},
   "outputs": [],
   "source": [
    "def otherise(df_col, n, lst_top_n=None):\n",
    "        \"\"\"Otherise dataframe columns if it contains too many values\n",
    "\n",
    "        Arguments:\n",
    "            df_col {series} -- dataframe column\n",
    "            n {int} -- number of maximum values\n",
    "\n",
    "        Returns:\n",
    "            series -- dataframe column with reduced values\n",
    "        \"\"\"\n",
    "        if lst_top_n:\n",
    "            top_n = lst_top_n\n",
    "        else:\n",
    "            z = pd.DataFrame(df_col).copy()\n",
    "            z['val'] = 1\n",
    "            z.columns = ['key', 'val']\n",
    "            top_n = z.groupby('key').size().sort_values(ascending=False)[:n]\n",
    "            top_n = pd.DataFrame(top_n).reset_index()\n",
    "            top_n = list(top_n.key.values)\n",
    "        df_col = df_col.apply(lambda y: y if y in top_n else np.NaN)\n",
    "        \n",
    "        return df_col"
   ]
  },
  {
   "cell_type": "code",
   "execution_count": 4,
   "metadata": {},
   "outputs": [],
   "source": [
    "def get_dummies(x):\n",
    "    \"\"\"Turn a column of string values into categorical variables through one-hot encoding.\n",
    "\n",
    "    :param x: Input data frame with original columns\n",
    "    :type x: Pandas DataFrame\n",
    "    :returns x: Output data frame with dummy variables\n",
    "    :rtype x: Pandas DataFrame\n",
    "    \"\"\"\n",
    "    column_names = []\n",
    "    for i in range(0, len(x.columns)):\n",
    "        if x.dtypes[i] == 'object':\n",
    "            column_names.append(x.columns[i])\n",
    "\n",
    "    dummies = pd.get_dummies(x[column_names])\n",
    "    x = pd.concat([x.reset_index(drop=True), dummies], axis=1)\n",
    "    x = x.drop(column_names, axis=1)    \n",
    "\n",
    "    return x\n"
   ]
  },
  {
   "cell_type": "code",
   "execution_count": 19,
   "metadata": {},
   "outputs": [],
   "source": [
    "pd.get_dummies??"
   ]
  },
  {
   "cell_type": "markdown",
   "metadata": {},
   "source": [
    "## Let's get some data"
   ]
  },
  {
   "cell_type": "markdown",
   "metadata": {},
   "source": [
    "You can find the entire database of data here:\n",
    "[Original Postgres DVD Rental database](http://www.postgresqltutorial.com/postgresql-sample-database/)"
   ]
  },
  {
   "cell_type": "code",
   "execution_count": 6,
   "metadata": {},
   "outputs": [],
   "source": [
    "dvdrental_demographics = pd.read_csv('dvdrental_demographics.csv', index_col=False,  sep = \";\")"
   ]
  },
  {
   "cell_type": "code",
   "execution_count": 7,
   "metadata": {},
   "outputs": [],
   "source": [
    "dvdrental_time = pd.read_csv('dvdrental_time.csv', index_col=False, sep = \";\")"
   ]
  },
  {
   "cell_type": "code",
   "execution_count": 8,
   "metadata": {},
   "outputs": [],
   "source": [
    "dvdrental_pay = pd.read_csv('dvdrental_pay.csv', index_col=False, sep = \";\")"
   ]
  },
  {
   "cell_type": "code",
   "execution_count": 9,
   "metadata": {},
   "outputs": [],
   "source": [
    "dvdrental_preference = pd.read_csv('dvdrental_preference.csv', index_col=False, sep = \";\")"
   ]
  },
  {
   "cell_type": "markdown",
   "metadata": {},
   "source": [
    "<br />"
   ]
  },
  {
   "cell_type": "markdown",
   "metadata": {},
   "source": [
    "<br />"
   ]
  },
  {
   "cell_type": "markdown",
   "metadata": {},
   "source": [
    "<br />"
   ]
  },
  {
   "cell_type": "markdown",
   "metadata": {},
   "source": [
    "<br />"
   ]
  },
  {
   "cell_type": "markdown",
   "metadata": {},
   "source": [
    "## Data Prep! 90% of all data science work \n",
    "\n",
    "### Demographics\n",
    "\n",
    "Using city and country can be an indicator of different movie tastes. \n",
    "\n",
    "Something interesting to try: \n",
    "\n",
    "There is a way to use first name to predict gender. Do you think this could be useful when trying to find customer dvd preferences?"
   ]
  },
  {
   "cell_type": "code",
   "execution_count": 10,
   "metadata": {},
   "outputs": [],
   "source": [
    "dvdrental_demographics['city'] = otherise(dvdrental_demographics['city'], 2)\n",
    "dvdrental_demographics['country'] = otherise(dvdrental_demographics['country'], 2)"
   ]
  },
  {
   "cell_type": "code",
   "execution_count": 11,
   "metadata": {},
   "outputs": [
    {
     "data": {
      "text/html": [
       "<div>\n",
       "<style scoped>\n",
       "    .dataframe tbody tr th:only-of-type {\n",
       "        vertical-align: middle;\n",
       "    }\n",
       "\n",
       "    .dataframe tbody tr th {\n",
       "        vertical-align: top;\n",
       "    }\n",
       "\n",
       "    .dataframe thead th {\n",
       "        text-align: right;\n",
       "    }\n",
       "</style>\n",
       "<table border=\"1\" class=\"dataframe\">\n",
       "  <thead>\n",
       "    <tr style=\"text-align: right;\">\n",
       "      <th></th>\n",
       "      <th>customer_id</th>\n",
       "      <th>store_id</th>\n",
       "      <th>first_name</th>\n",
       "      <th>address_id</th>\n",
       "      <th>create_date</th>\n",
       "      <th>active</th>\n",
       "      <th>city_id</th>\n",
       "      <th>city</th>\n",
       "      <th>country_id</th>\n",
       "      <th>country</th>\n",
       "    </tr>\n",
       "  </thead>\n",
       "  <tbody>\n",
       "    <tr>\n",
       "      <th>0</th>\n",
       "      <td>524</td>\n",
       "      <td>1</td>\n",
       "      <td>Jared</td>\n",
       "      <td>530</td>\n",
       "      <td>2006-02-14</td>\n",
       "      <td>1.0</td>\n",
       "      <td>419</td>\n",
       "      <td>NaN</td>\n",
       "      <td>45</td>\n",
       "      <td>NaN</td>\n",
       "    </tr>\n",
       "  </tbody>\n",
       "</table>\n",
       "</div>"
      ],
      "text/plain": [
       "   customer_id  store_id first_name  address_id create_date  active  city_id  \\\n",
       "0          524         1      Jared         530  2006-02-14     1.0      419   \n",
       "\n",
       "  city  country_id country  \n",
       "0  NaN          45     NaN  "
      ]
     },
     "execution_count": 11,
     "metadata": {},
     "output_type": "execute_result"
    }
   ],
   "source": [
    "dvdrental_demographics.head(1)"
   ]
  },
  {
   "cell_type": "code",
   "execution_count": 12,
   "metadata": {},
   "outputs": [],
   "source": [
    "aggregations_dm = {\n",
    "    'store_id': [\"max\"],\n",
    "    'city': [lambda x: x.value_counts().index[0] if len(x.value_counts()) else None],\n",
    "    'country': [lambda x: x.value_counts().index[0] if len(x.value_counts()) else None],\n",
    "    'active': [\"max\"]  \n",
    "    } \n",
    "\n",
    "df_dm = dvdrental_demographics.groupby('customer_id').agg(aggregations_dm).reset_index()\n",
    "df_dm.columns = ['customer_id','store_id','city','country','active']\n"
   ]
  },
  {
   "cell_type": "code",
   "execution_count": 13,
   "metadata": {},
   "outputs": [
    {
     "data": {
      "text/html": [
       "<div>\n",
       "<style scoped>\n",
       "    .dataframe tbody tr th:only-of-type {\n",
       "        vertical-align: middle;\n",
       "    }\n",
       "\n",
       "    .dataframe tbody tr th {\n",
       "        vertical-align: top;\n",
       "    }\n",
       "\n",
       "    .dataframe thead th {\n",
       "        text-align: right;\n",
       "    }\n",
       "</style>\n",
       "<table border=\"1\" class=\"dataframe\">\n",
       "  <thead>\n",
       "    <tr style=\"text-align: right;\">\n",
       "      <th></th>\n",
       "      <th>customer_id</th>\n",
       "      <th>store_id</th>\n",
       "      <th>city</th>\n",
       "      <th>country</th>\n",
       "      <th>active</th>\n",
       "    </tr>\n",
       "  </thead>\n",
       "  <tbody>\n",
       "    <tr>\n",
       "      <th>0</th>\n",
       "      <td>1</td>\n",
       "      <td>1</td>\n",
       "      <td>None</td>\n",
       "      <td>None</td>\n",
       "      <td>1.0</td>\n",
       "    </tr>\n",
       "    <tr>\n",
       "      <th>1</th>\n",
       "      <td>2</td>\n",
       "      <td>1</td>\n",
       "      <td>None</td>\n",
       "      <td>None</td>\n",
       "      <td>1.0</td>\n",
       "    </tr>\n",
       "    <tr>\n",
       "      <th>2</th>\n",
       "      <td>3</td>\n",
       "      <td>1</td>\n",
       "      <td>None</td>\n",
       "      <td>None</td>\n",
       "      <td>1.0</td>\n",
       "    </tr>\n",
       "    <tr>\n",
       "      <th>3</th>\n",
       "      <td>4</td>\n",
       "      <td>2</td>\n",
       "      <td>None</td>\n",
       "      <td>None</td>\n",
       "      <td>1.0</td>\n",
       "    </tr>\n",
       "    <tr>\n",
       "      <th>4</th>\n",
       "      <td>5</td>\n",
       "      <td>1</td>\n",
       "      <td>None</td>\n",
       "      <td>None</td>\n",
       "      <td>1.0</td>\n",
       "    </tr>\n",
       "  </tbody>\n",
       "</table>\n",
       "</div>"
      ],
      "text/plain": [
       "   customer_id  store_id  city country  active\n",
       "0            1         1  None    None     1.0\n",
       "1            2         1  None    None     1.0\n",
       "2            3         1  None    None     1.0\n",
       "3            4         2  None    None     1.0\n",
       "4            5         1  None    None     1.0"
      ]
     },
     "execution_count": 13,
     "metadata": {},
     "output_type": "execute_result"
    }
   ],
   "source": [
    "df_dm.head()"
   ]
  },
  {
   "cell_type": "code",
   "execution_count": 14,
   "metadata": {},
   "outputs": [
    {
     "data": {
      "text/html": [
       "<div>\n",
       "<style scoped>\n",
       "    .dataframe tbody tr th:only-of-type {\n",
       "        vertical-align: middle;\n",
       "    }\n",
       "\n",
       "    .dataframe tbody tr th {\n",
       "        vertical-align: top;\n",
       "    }\n",
       "\n",
       "    .dataframe thead th {\n",
       "        text-align: right;\n",
       "    }\n",
       "</style>\n",
       "<table border=\"1\" class=\"dataframe\">\n",
       "  <thead>\n",
       "    <tr style=\"text-align: right;\">\n",
       "      <th></th>\n",
       "      <th>customer_id</th>\n",
       "      <th>store_id</th>\n",
       "      <th>active</th>\n",
       "      <th>city_Aurora</th>\n",
       "      <th>city_London</th>\n",
       "      <th>country_China</th>\n",
       "      <th>country_India</th>\n",
       "    </tr>\n",
       "  </thead>\n",
       "  <tbody>\n",
       "    <tr>\n",
       "      <th>0</th>\n",
       "      <td>1</td>\n",
       "      <td>1</td>\n",
       "      <td>1.0</td>\n",
       "      <td>0</td>\n",
       "      <td>0</td>\n",
       "      <td>0</td>\n",
       "      <td>0</td>\n",
       "    </tr>\n",
       "    <tr>\n",
       "      <th>1</th>\n",
       "      <td>2</td>\n",
       "      <td>1</td>\n",
       "      <td>1.0</td>\n",
       "      <td>0</td>\n",
       "      <td>0</td>\n",
       "      <td>0</td>\n",
       "      <td>0</td>\n",
       "    </tr>\n",
       "    <tr>\n",
       "      <th>2</th>\n",
       "      <td>3</td>\n",
       "      <td>1</td>\n",
       "      <td>1.0</td>\n",
       "      <td>0</td>\n",
       "      <td>0</td>\n",
       "      <td>0</td>\n",
       "      <td>0</td>\n",
       "    </tr>\n",
       "    <tr>\n",
       "      <th>3</th>\n",
       "      <td>4</td>\n",
       "      <td>2</td>\n",
       "      <td>1.0</td>\n",
       "      <td>0</td>\n",
       "      <td>0</td>\n",
       "      <td>0</td>\n",
       "      <td>0</td>\n",
       "    </tr>\n",
       "    <tr>\n",
       "      <th>4</th>\n",
       "      <td>5</td>\n",
       "      <td>1</td>\n",
       "      <td>1.0</td>\n",
       "      <td>0</td>\n",
       "      <td>0</td>\n",
       "      <td>0</td>\n",
       "      <td>0</td>\n",
       "    </tr>\n",
       "  </tbody>\n",
       "</table>\n",
       "</div>"
      ],
      "text/plain": [
       "   customer_id  store_id  active  city_Aurora  city_London  country_China  \\\n",
       "0            1         1     1.0            0            0              0   \n",
       "1            2         1     1.0            0            0              0   \n",
       "2            3         1     1.0            0            0              0   \n",
       "3            4         2     1.0            0            0              0   \n",
       "4            5         1     1.0            0            0              0   \n",
       "\n",
       "   country_India  \n",
       "0              0  \n",
       "1              0  \n",
       "2              0  \n",
       "3              0  \n",
       "4              0  "
      ]
     },
     "execution_count": 14,
     "metadata": {},
     "output_type": "execute_result"
    }
   ],
   "source": [
    "df_dm = get_dummies(df_dm)\n",
    "df_dm.head()"
   ]
  },
  {
   "cell_type": "markdown",
   "metadata": {},
   "source": [
    "<br />"
   ]
  },
  {
   "cell_type": "markdown",
   "metadata": {},
   "source": [
    "<br />"
   ]
  },
  {
   "cell_type": "markdown",
   "metadata": {},
   "source": [
    "<br />"
   ]
  },
  {
   "cell_type": "markdown",
   "metadata": {},
   "source": [
    "<br />"
   ]
  },
  {
   "cell_type": "markdown",
   "metadata": {},
   "source": [
    "### Time features\n",
    "\n",
    "There's more to do here:\n",
    " \n",
    " - Frequency between subsequent rentals\n",
    " - Finding how long since last rental\n",
    " \n",
    "Can you think of more features?\n"
   ]
  },
  {
   "cell_type": "code",
   "execution_count": 15,
   "metadata": {
    "scrolled": true
   },
   "outputs": [],
   "source": [
    "dvdrental_time['return_date'] = np.where(dvdrental_time['return_date'] == '\\\\N','2013-05-26 14:50:58' ,dvdrental_time['return_date']) \n",
    "\n",
    "dvdrental_time['rental_date'] = pd.to_datetime(dvdrental_time['rental_date'])\n",
    "dvdrental_time['return_date'] = pd.to_datetime(dvdrental_time['return_date'])\n",
    "\n",
    "dvdrental_time['rent_time'] = (dvdrental_time['return_date'] - dvdrental_time['rental_date']).astype('timedelta64[D]')\n"
   ]
  },
  {
   "cell_type": "code",
   "execution_count": 16,
   "metadata": {},
   "outputs": [],
   "source": [
    "aggregations_time = {\n",
    "    'rental_date': { # work on the \"rental_date\" column\n",
    "        'max_rental_date': 'max',  # get the max, and call this result 'max_rental_date'\n",
    "        'min_rental_date': 'min', # get min, call result 'min_rental_date'\n",
    "        'total_dvds': 'count'\n",
    "    },\n",
    "    'rent_time': {     # Now work on the \"rent_time\" column\n",
    "        'ave_rent_time': 'median'   # Find the median, call the result \"ave_rent_time\"\n",
    "        }\n",
    "}\n",
    "\n",
    "# Perform groupby aggregation by \"customer_id\"\n",
    "df_time = dvdrental_time.groupby('customer_id').agg(aggregations_time).reset_index()\n",
    "df_time.columns = ['customer_id','max_rental_date','min_rental_date','total_dvds','ave_rent_time']\n"
   ]
  },
  {
   "cell_type": "code",
   "execution_count": 17,
   "metadata": {},
   "outputs": [],
   "source": [
    "df_time['total_rental_custom_days'] = (df_time['max_rental_date'] - df_time['min_rental_date']).astype('timedelta64[D]')\n",
    "df_time.drop(['max_rental_date','min_rental_date'], axis=1, inplace=True)"
   ]
  },
  {
   "cell_type": "code",
   "execution_count": 18,
   "metadata": {},
   "outputs": [
    {
     "data": {
      "text/html": [
       "<div>\n",
       "<style scoped>\n",
       "    .dataframe tbody tr th:only-of-type {\n",
       "        vertical-align: middle;\n",
       "    }\n",
       "\n",
       "    .dataframe tbody tr th {\n",
       "        vertical-align: top;\n",
       "    }\n",
       "\n",
       "    .dataframe thead th {\n",
       "        text-align: right;\n",
       "    }\n",
       "</style>\n",
       "<table border=\"1\" class=\"dataframe\">\n",
       "  <thead>\n",
       "    <tr style=\"text-align: right;\">\n",
       "      <th></th>\n",
       "      <th>customer_id</th>\n",
       "      <th>total_dvds</th>\n",
       "      <th>ave_rent_time</th>\n",
       "      <th>total_rental_custom_days</th>\n",
       "    </tr>\n",
       "  </thead>\n",
       "  <tbody>\n",
       "    <tr>\n",
       "      <th>0</th>\n",
       "      <td>1</td>\n",
       "      <td>32</td>\n",
       "      <td>3.5</td>\n",
       "      <td>89.0</td>\n",
       "    </tr>\n",
       "    <tr>\n",
       "      <th>1</th>\n",
       "      <td>2</td>\n",
       "      <td>27</td>\n",
       "      <td>5.0</td>\n",
       "      <td>88.0</td>\n",
       "    </tr>\n",
       "    <tr>\n",
       "      <th>2</th>\n",
       "      <td>3</td>\n",
       "      <td>26</td>\n",
       "      <td>6.0</td>\n",
       "      <td>87.0</td>\n",
       "    </tr>\n",
       "    <tr>\n",
       "      <th>3</th>\n",
       "      <td>4</td>\n",
       "      <td>22</td>\n",
       "      <td>3.0</td>\n",
       "      <td>68.0</td>\n",
       "    </tr>\n",
       "    <tr>\n",
       "      <th>4</th>\n",
       "      <td>5</td>\n",
       "      <td>38</td>\n",
       "      <td>4.5</td>\n",
       "      <td>261.0</td>\n",
       "    </tr>\n",
       "  </tbody>\n",
       "</table>\n",
       "</div>"
      ],
      "text/plain": [
       "   customer_id  total_dvds  ave_rent_time  total_rental_custom_days\n",
       "0            1          32            3.5                      89.0\n",
       "1            2          27            5.0                      88.0\n",
       "2            3          26            6.0                      87.0\n",
       "3            4          22            3.0                      68.0\n",
       "4            5          38            4.5                     261.0"
      ]
     },
     "execution_count": 18,
     "metadata": {},
     "output_type": "execute_result"
    }
   ],
   "source": [
    "df_time.head()"
   ]
  },
  {
   "cell_type": "markdown",
   "metadata": {},
   "source": [
    "<br />"
   ]
  },
  {
   "cell_type": "markdown",
   "metadata": {},
   "source": [
    "<br />"
   ]
  },
  {
   "cell_type": "markdown",
   "metadata": {},
   "source": [
    "<br />"
   ]
  },
  {
   "cell_type": "markdown",
   "metadata": {},
   "source": [
    "<br />"
   ]
  },
  {
   "cell_type": "markdown",
   "metadata": {},
   "source": [
    "### Payment information\n",
    "\n",
    "We can ask questions like:\n",
    "\n",
    " - What is the most dvd's they would be willing to rent at a time?\n",
    " - What do customers spend per rental order?\n",
    " - What is they total they have spent as a customer?\n",
    " \n",
    "ie. who are our high-rollers"
   ]
  },
  {
   "cell_type": "code",
   "execution_count": 245,
   "metadata": {},
   "outputs": [],
   "source": [
    "dvdrental_pay['rental_date'] = pd.to_datetime(dvdrental_pay['rental_date']).dt.date"
   ]
  },
  {
   "cell_type": "code",
   "execution_count": 246,
   "metadata": {},
   "outputs": [],
   "source": [
    "# what if more than one movie was rented on one day?\n",
    "aggregations_ppd = {\n",
    "    'amount': {\n",
    "        'max_dvd_amount' : 'max',\n",
    "        'min_dvd_amount' : 'min',\n",
    "        'ave_dvd_amount' : 'median',\n",
    "        'total_amount' : 'sum',\n",
    "        'total_dvd_rented' : 'count'\n",
    "    }  \n",
    "    } \n",
    "\n",
    "df_ppd = dvdrental_pay.groupby(['customer_id','rental_date']).agg(aggregations_ppd).reset_index()\n",
    "df_ppd.columns = ['customer_id','rental_date','max_dvd_amount','min_dvd_amount','ave_dvd_amount','total_amount','total_dvd_rented']\n"
   ]
  },
  {
   "cell_type": "code",
   "execution_count": 247,
   "metadata": {},
   "outputs": [],
   "source": [
    "# let's look at lifetime spend\n",
    "aggregations_pay = {\n",
    "    'max_dvd_amount': ['max'],\n",
    "    'min_dvd_amount': ['min'],\n",
    "    'ave_dvd_amount': ['median'],\n",
    "    'total_dvd_rented' : {\n",
    "        'ave_dvds_order' : 'median',\n",
    "        'max_dvds_order' : 'max'\n",
    "    },\n",
    "    'total_amount' :\n",
    "     {\n",
    "        'max_order_amount' : 'max',\n",
    "        'ave_order_amount' : 'median',\n",
    "        'total_lifetime_amount' : 'sum',\n",
    "        'total_rental_orders' : 'count'\n",
    "    }  \n",
    "    } \n",
    "\n",
    "df_pay = df_ppd.groupby('customer_id').agg(aggregations_pay).reset_index()\n",
    "df_pay.columns = ['customer_id','max_dvd_amount','min_dvd_amount','ave_dvd_amount','ave_dvds_order','max_dvds_order','max_order_amount','ave_order_amount','total_lifetime_amount','total_rental_orders']\n"
   ]
  },
  {
   "cell_type": "code",
   "execution_count": 248,
   "metadata": {},
   "outputs": [
    {
     "data": {
      "text/html": [
       "<div>\n",
       "<style scoped>\n",
       "    .dataframe tbody tr th:only-of-type {\n",
       "        vertical-align: middle;\n",
       "    }\n",
       "\n",
       "    .dataframe tbody tr th {\n",
       "        vertical-align: top;\n",
       "    }\n",
       "\n",
       "    .dataframe thead th {\n",
       "        text-align: right;\n",
       "    }\n",
       "</style>\n",
       "<table border=\"1\" class=\"dataframe\">\n",
       "  <thead>\n",
       "    <tr style=\"text-align: right;\">\n",
       "      <th></th>\n",
       "      <th>customer_id</th>\n",
       "      <th>max_dvd_amount</th>\n",
       "      <th>min_dvd_amount</th>\n",
       "      <th>ave_dvd_amount</th>\n",
       "      <th>ave_dvds_order</th>\n",
       "      <th>max_dvds_order</th>\n",
       "      <th>max_order_amount</th>\n",
       "      <th>ave_order_amount</th>\n",
       "      <th>total_lifetime_amount</th>\n",
       "      <th>total_rental_orders</th>\n",
       "    </tr>\n",
       "  </thead>\n",
       "  <tbody>\n",
       "    <tr>\n",
       "      <th>0</th>\n",
       "      <td>1</td>\n",
       "      <td>9.99</td>\n",
       "      <td>0.99</td>\n",
       "      <td>2.99</td>\n",
       "      <td>1.0</td>\n",
       "      <td>4</td>\n",
       "      <td>16.97</td>\n",
       "      <td>4.99</td>\n",
       "      <td>114.70</td>\n",
       "      <td>18</td>\n",
       "    </tr>\n",
       "    <tr>\n",
       "      <th>1</th>\n",
       "      <td>2</td>\n",
       "      <td>10.99</td>\n",
       "      <td>0.99</td>\n",
       "      <td>4.99</td>\n",
       "      <td>1.0</td>\n",
       "      <td>5</td>\n",
       "      <td>30.95</td>\n",
       "      <td>4.99</td>\n",
       "      <td>123.74</td>\n",
       "      <td>13</td>\n",
       "    </tr>\n",
       "    <tr>\n",
       "      <th>2</th>\n",
       "      <td>3</td>\n",
       "      <td>10.99</td>\n",
       "      <td>0.99</td>\n",
       "      <td>4.99</td>\n",
       "      <td>1.0</td>\n",
       "      <td>4</td>\n",
       "      <td>24.96</td>\n",
       "      <td>5.98</td>\n",
       "      <td>130.76</td>\n",
       "      <td>17</td>\n",
       "    </tr>\n",
       "    <tr>\n",
       "      <th>3</th>\n",
       "      <td>4</td>\n",
       "      <td>8.99</td>\n",
       "      <td>0.99</td>\n",
       "      <td>3.99</td>\n",
       "      <td>1.0</td>\n",
       "      <td>3</td>\n",
       "      <td>11.98</td>\n",
       "      <td>4.99</td>\n",
       "      <td>81.78</td>\n",
       "      <td>15</td>\n",
       "    </tr>\n",
       "    <tr>\n",
       "      <th>4</th>\n",
       "      <td>5</td>\n",
       "      <td>9.99</td>\n",
       "      <td>0.99</td>\n",
       "      <td>3.99</td>\n",
       "      <td>1.0</td>\n",
       "      <td>3</td>\n",
       "      <td>12.97</td>\n",
       "      <td>4.98</td>\n",
       "      <td>134.65</td>\n",
       "      <td>25</td>\n",
       "    </tr>\n",
       "  </tbody>\n",
       "</table>\n",
       "</div>"
      ],
      "text/plain": [
       "   customer_id  max_dvd_amount  min_dvd_amount  ave_dvd_amount  \\\n",
       "0            1            9.99            0.99            2.99   \n",
       "1            2           10.99            0.99            4.99   \n",
       "2            3           10.99            0.99            4.99   \n",
       "3            4            8.99            0.99            3.99   \n",
       "4            5            9.99            0.99            3.99   \n",
       "\n",
       "   ave_dvds_order  max_dvds_order  max_order_amount  ave_order_amount  \\\n",
       "0             1.0               4             16.97              4.99   \n",
       "1             1.0               5             30.95              4.99   \n",
       "2             1.0               4             24.96              5.98   \n",
       "3             1.0               3             11.98              4.99   \n",
       "4             1.0               3             12.97              4.98   \n",
       "\n",
       "   total_lifetime_amount  total_rental_orders  \n",
       "0                 114.70                   18  \n",
       "1                 123.74                   13  \n",
       "2                 130.76                   17  \n",
       "3                  81.78                   15  \n",
       "4                 134.65                   25  "
      ]
     },
     "execution_count": 248,
     "metadata": {},
     "output_type": "execute_result"
    }
   ],
   "source": [
    "df_pay.head()"
   ]
  },
  {
   "cell_type": "markdown",
   "metadata": {},
   "source": [
    "<br />"
   ]
  },
  {
   "cell_type": "markdown",
   "metadata": {},
   "source": [
    "<br />"
   ]
  },
  {
   "cell_type": "markdown",
   "metadata": {},
   "source": [
    "<br />"
   ]
  },
  {
   "cell_type": "markdown",
   "metadata": {},
   "source": [
    "<br />"
   ]
  },
  {
   "cell_type": "markdown",
   "metadata": {},
   "source": [
    "### Film preference data\n",
    " \n",
    "What are common customer tastes?\n",
    "\n",
    " - Favourite actors\n",
    " - Favourite genres\n",
    " - Favourite movies\n",
    " \n",
    "We can also make distinctions about customers who rent children's movies, this might be a significant feature.\n",
    "\n",
    "Can you think of more features?"
   ]
  },
  {
   "cell_type": "code",
   "execution_count": 249,
   "metadata": {},
   "outputs": [],
   "source": [
    "dvdrental_pref = dvdrental_preference[['customer_id', 'title', 'length', 'rating', 'category', 'actor_name']]\n"
   ]
  },
  {
   "cell_type": "code",
   "execution_count": 250,
   "metadata": {},
   "outputs": [
    {
     "data": {
      "text/plain": [
       "array(['Family', 'Foreign', 'New', 'Travel', 'Music', 'Action',\n",
       "       'Classics', 'Comedy', 'Sci-Fi', 'Drama', 'Sports', 'Animation',\n",
       "       'Documentary', 'Games', 'Children', 'Horror'], dtype=object)"
      ]
     },
     "execution_count": 250,
     "metadata": {},
     "output_type": "execute_result"
    }
   ],
   "source": [
    "dvdrental_pref.category.unique()"
   ]
  },
  {
   "cell_type": "code",
   "execution_count": 251,
   "metadata": {},
   "outputs": [],
   "source": [
    "dvdrental_pref['kids'] = np.where(dvdrental_pref['category'] == 'Children',1,0)\n",
    "dvdrental_pref['sports'] = np.where(dvdrental_pref['category'] == 'Sports',1,0)\n",
    "dvdrental_pref['foreign'] = np.where(dvdrental_pref['category'] == 'Foreign',1,0)"
   ]
  },
  {
   "cell_type": "code",
   "execution_count": 252,
   "metadata": {},
   "outputs": [
    {
     "data": {
      "text/html": [
       "<div>\n",
       "<style scoped>\n",
       "    .dataframe tbody tr th:only-of-type {\n",
       "        vertical-align: middle;\n",
       "    }\n",
       "\n",
       "    .dataframe tbody tr th {\n",
       "        vertical-align: top;\n",
       "    }\n",
       "\n",
       "    .dataframe thead th {\n",
       "        text-align: right;\n",
       "    }\n",
       "</style>\n",
       "<table border=\"1\" class=\"dataframe\">\n",
       "  <thead>\n",
       "    <tr style=\"text-align: right;\">\n",
       "      <th></th>\n",
       "      <th>customer_id</th>\n",
       "      <th>title</th>\n",
       "      <th>length</th>\n",
       "      <th>rating</th>\n",
       "      <th>category</th>\n",
       "      <th>actor_name</th>\n",
       "      <th>kids</th>\n",
       "      <th>sports</th>\n",
       "      <th>foreign</th>\n",
       "    </tr>\n",
       "  </thead>\n",
       "  <tbody>\n",
       "    <tr>\n",
       "      <th>0</th>\n",
       "      <td>524</td>\n",
       "      <td>Secrets Paradise</td>\n",
       "      <td>109.0</td>\n",
       "      <td>G</td>\n",
       "      <td>Family</td>\n",
       "      <td>Reese_Kilmer</td>\n",
       "      <td>0</td>\n",
       "      <td>0</td>\n",
       "      <td>0</td>\n",
       "    </tr>\n",
       "    <tr>\n",
       "      <th>1</th>\n",
       "      <td>524</td>\n",
       "      <td>Secrets Paradise</td>\n",
       "      <td>109.0</td>\n",
       "      <td>G</td>\n",
       "      <td>Family</td>\n",
       "      <td>Gene_Willis</td>\n",
       "      <td>0</td>\n",
       "      <td>0</td>\n",
       "      <td>0</td>\n",
       "    </tr>\n",
       "    <tr>\n",
       "      <th>2</th>\n",
       "      <td>524</td>\n",
       "      <td>Secrets Paradise</td>\n",
       "      <td>109.0</td>\n",
       "      <td>G</td>\n",
       "      <td>Family</td>\n",
       "      <td>Renee_Tracy</td>\n",
       "      <td>0</td>\n",
       "      <td>0</td>\n",
       "      <td>0</td>\n",
       "    </tr>\n",
       "    <tr>\n",
       "      <th>3</th>\n",
       "      <td>524</td>\n",
       "      <td>Secrets Paradise</td>\n",
       "      <td>109.0</td>\n",
       "      <td>G</td>\n",
       "      <td>Family</td>\n",
       "      <td>Whoopi_Hurt</td>\n",
       "      <td>0</td>\n",
       "      <td>0</td>\n",
       "      <td>0</td>\n",
       "    </tr>\n",
       "    <tr>\n",
       "      <th>4</th>\n",
       "      <td>524</td>\n",
       "      <td>Secrets Paradise</td>\n",
       "      <td>109.0</td>\n",
       "      <td>G</td>\n",
       "      <td>Family</td>\n",
       "      <td>Kenneth_Hoffman</td>\n",
       "      <td>0</td>\n",
       "      <td>0</td>\n",
       "      <td>0</td>\n",
       "    </tr>\n",
       "  </tbody>\n",
       "</table>\n",
       "</div>"
      ],
      "text/plain": [
       "   customer_id             title  length rating category       actor_name  \\\n",
       "0          524  Secrets Paradise   109.0      G   Family     Reese_Kilmer   \n",
       "1          524  Secrets Paradise   109.0      G   Family      Gene_Willis   \n",
       "2          524  Secrets Paradise   109.0      G   Family      Renee_Tracy   \n",
       "3          524  Secrets Paradise   109.0      G   Family      Whoopi_Hurt   \n",
       "4          524  Secrets Paradise   109.0      G   Family  Kenneth_Hoffman   \n",
       "\n",
       "   kids  sports  foreign  \n",
       "0     0       0        0  \n",
       "1     0       0        0  \n",
       "2     0       0        0  \n",
       "3     0       0        0  \n",
       "4     0       0        0  "
      ]
     },
     "execution_count": 252,
     "metadata": {},
     "output_type": "execute_result"
    }
   ],
   "source": [
    "dvdrental_pref.head()"
   ]
  },
  {
   "cell_type": "code",
   "execution_count": 253,
   "metadata": {},
   "outputs": [],
   "source": [
    "aggregations_pref = {\n",
    "    'title': [lambda x: x.value_counts().index[0] if len(x.value_counts()) else None],\n",
    "    'length': {\n",
    "        'max_length' : 'max',\n",
    "        'ave_length' : 'median'\n",
    "    },\n",
    "    'rating': [lambda x: x.value_counts().index[0] if len(x.value_counts()) else None],\n",
    "    'category': [lambda x: x.value_counts().index[0] if len(x.value_counts()) else None],\n",
    "    'actor_name': [lambda x: x.value_counts().index[0] if len(x.value_counts()) else None],\n",
    "    'kids' : 'max',\n",
    "    'sports' : 'max',\n",
    "    'foreign' : 'max'\n",
    "    } \n",
    "\n",
    "df_pref = dvdrental_pref.groupby('customer_id').agg(aggregations_pref).reset_index()\n",
    "df_pref.columns = ['customer_id','fav_title','max_length','ave_length','rating','fav_category','fav_actor','kids','sports','foreign']\n",
    "\n"
   ]
  },
  {
   "cell_type": "code",
   "execution_count": 254,
   "metadata": {},
   "outputs": [
    {
     "data": {
      "text/html": [
       "<div>\n",
       "<style scoped>\n",
       "    .dataframe tbody tr th:only-of-type {\n",
       "        vertical-align: middle;\n",
       "    }\n",
       "\n",
       "    .dataframe tbody tr th {\n",
       "        vertical-align: top;\n",
       "    }\n",
       "\n",
       "    .dataframe thead th {\n",
       "        text-align: right;\n",
       "    }\n",
       "</style>\n",
       "<table border=\"1\" class=\"dataframe\">\n",
       "  <thead>\n",
       "    <tr style=\"text-align: right;\">\n",
       "      <th></th>\n",
       "      <th>customer_id</th>\n",
       "      <th>fav_title</th>\n",
       "      <th>max_length</th>\n",
       "      <th>ave_length</th>\n",
       "      <th>rating</th>\n",
       "      <th>fav_category</th>\n",
       "      <th>fav_actor</th>\n",
       "      <th>kids</th>\n",
       "      <th>sports</th>\n",
       "      <th>foreign</th>\n",
       "    </tr>\n",
       "  </thead>\n",
       "  <tbody>\n",
       "    <tr>\n",
       "      <th>0</th>\n",
       "      <td>1</td>\n",
       "      <td>Saturday Lambs</td>\n",
       "      <td>180.0</td>\n",
       "      <td>128.0</td>\n",
       "      <td>PG-13</td>\n",
       "      <td>Comedy</td>\n",
       "      <td>Val_Bolger</td>\n",
       "      <td>0</td>\n",
       "      <td>1</td>\n",
       "      <td>1</td>\n",
       "    </tr>\n",
       "    <tr>\n",
       "      <th>1</th>\n",
       "      <td>2</td>\n",
       "      <td>Mummy Creatures</td>\n",
       "      <td>185.0</td>\n",
       "      <td>142.0</td>\n",
       "      <td>NC-17</td>\n",
       "      <td>Sports</td>\n",
       "      <td>Minnie_Zellweger</td>\n",
       "      <td>1</td>\n",
       "      <td>1</td>\n",
       "      <td>0</td>\n",
       "    </tr>\n",
       "    <tr>\n",
       "      <th>2</th>\n",
       "      <td>3</td>\n",
       "      <td>Rings Heartbreakers</td>\n",
       "      <td>167.0</td>\n",
       "      <td>97.0</td>\n",
       "      <td>R</td>\n",
       "      <td>Music</td>\n",
       "      <td>Jayne_Nolte</td>\n",
       "      <td>0</td>\n",
       "      <td>1</td>\n",
       "      <td>0</td>\n",
       "    </tr>\n",
       "    <tr>\n",
       "      <th>3</th>\n",
       "      <td>4</td>\n",
       "      <td>Hoosiers Birdcage</td>\n",
       "      <td>176.0</td>\n",
       "      <td>122.0</td>\n",
       "      <td>G</td>\n",
       "      <td>Foreign</td>\n",
       "      <td>Kirk_Jovovich</td>\n",
       "      <td>1</td>\n",
       "      <td>1</td>\n",
       "      <td>1</td>\n",
       "    </tr>\n",
       "    <tr>\n",
       "      <th>4</th>\n",
       "      <td>5</td>\n",
       "      <td>Agent Truman</td>\n",
       "      <td>175.0</td>\n",
       "      <td>126.0</td>\n",
       "      <td>PG</td>\n",
       "      <td>Classics</td>\n",
       "      <td>Susan_Davis</td>\n",
       "      <td>1</td>\n",
       "      <td>1</td>\n",
       "      <td>1</td>\n",
       "    </tr>\n",
       "  </tbody>\n",
       "</table>\n",
       "</div>"
      ],
      "text/plain": [
       "   customer_id            fav_title  max_length  ave_length rating  \\\n",
       "0            1       Saturday Lambs       180.0       128.0  PG-13   \n",
       "1            2      Mummy Creatures       185.0       142.0  NC-17   \n",
       "2            3  Rings Heartbreakers       167.0        97.0      R   \n",
       "3            4    Hoosiers Birdcage       176.0       122.0      G   \n",
       "4            5         Agent Truman       175.0       126.0     PG   \n",
       "\n",
       "  fav_category         fav_actor  kids  sports  foreign  \n",
       "0       Comedy        Val_Bolger     0       1        1  \n",
       "1       Sports  Minnie_Zellweger     1       1        0  \n",
       "2        Music       Jayne_Nolte     0       1        0  \n",
       "3      Foreign     Kirk_Jovovich     1       1        1  \n",
       "4     Classics       Susan_Davis     1       1        1  "
      ]
     },
     "execution_count": 254,
     "metadata": {},
     "output_type": "execute_result"
    }
   ],
   "source": [
    "df_pref.head()"
   ]
  },
  {
   "cell_type": "code",
   "execution_count": 255,
   "metadata": {},
   "outputs": [
    {
     "data": {
      "text/plain": [
       "209"
      ]
     },
     "execution_count": 255,
     "metadata": {},
     "output_type": "execute_result"
    }
   ],
   "source": [
    "df_pref.fav_title.unique().size"
   ]
  },
  {
   "cell_type": "code",
   "execution_count": 256,
   "metadata": {},
   "outputs": [],
   "source": [
    "df_pref['fav_title'] = otherise(df_pref['fav_title'], 3)\n",
    "df_pref['fav_actor'] = otherise(df_pref['fav_actor'], 3)\n"
   ]
  },
  {
   "cell_type": "code",
   "execution_count": 257,
   "metadata": {},
   "outputs": [
    {
     "data": {
      "text/html": [
       "<div>\n",
       "<style scoped>\n",
       "    .dataframe tbody tr th:only-of-type {\n",
       "        vertical-align: middle;\n",
       "    }\n",
       "\n",
       "    .dataframe tbody tr th {\n",
       "        vertical-align: top;\n",
       "    }\n",
       "\n",
       "    .dataframe thead th {\n",
       "        text-align: right;\n",
       "    }\n",
       "</style>\n",
       "<table border=\"1\" class=\"dataframe\">\n",
       "  <thead>\n",
       "    <tr style=\"text-align: right;\">\n",
       "      <th></th>\n",
       "      <th>customer_id</th>\n",
       "      <th>max_length</th>\n",
       "      <th>ave_length</th>\n",
       "      <th>kids</th>\n",
       "      <th>sports</th>\n",
       "      <th>foreign</th>\n",
       "      <th>fav_title_Oz Liaisons</th>\n",
       "      <th>fav_title_Telemark Heartbreakers</th>\n",
       "      <th>fav_title_Wedding Apollo</th>\n",
       "      <th>rating_G</th>\n",
       "      <th>...</th>\n",
       "      <th>fav_category_Games</th>\n",
       "      <th>fav_category_Horror</th>\n",
       "      <th>fav_category_Music</th>\n",
       "      <th>fav_category_New</th>\n",
       "      <th>fav_category_Sci-Fi</th>\n",
       "      <th>fav_category_Sports</th>\n",
       "      <th>fav_category_Travel</th>\n",
       "      <th>fav_actor_Jayne_Nolte</th>\n",
       "      <th>fav_actor_Renee_Tracy</th>\n",
       "      <th>fav_actor_Sidney_Crowe</th>\n",
       "    </tr>\n",
       "  </thead>\n",
       "  <tbody>\n",
       "    <tr>\n",
       "      <th>0</th>\n",
       "      <td>1</td>\n",
       "      <td>180.0</td>\n",
       "      <td>128.0</td>\n",
       "      <td>0</td>\n",
       "      <td>1</td>\n",
       "      <td>1</td>\n",
       "      <td>0</td>\n",
       "      <td>0</td>\n",
       "      <td>0</td>\n",
       "      <td>0</td>\n",
       "      <td>...</td>\n",
       "      <td>0</td>\n",
       "      <td>0</td>\n",
       "      <td>0</td>\n",
       "      <td>0</td>\n",
       "      <td>0</td>\n",
       "      <td>0</td>\n",
       "      <td>0</td>\n",
       "      <td>0</td>\n",
       "      <td>0</td>\n",
       "      <td>0</td>\n",
       "    </tr>\n",
       "    <tr>\n",
       "      <th>1</th>\n",
       "      <td>2</td>\n",
       "      <td>185.0</td>\n",
       "      <td>142.0</td>\n",
       "      <td>1</td>\n",
       "      <td>1</td>\n",
       "      <td>0</td>\n",
       "      <td>0</td>\n",
       "      <td>0</td>\n",
       "      <td>0</td>\n",
       "      <td>0</td>\n",
       "      <td>...</td>\n",
       "      <td>0</td>\n",
       "      <td>0</td>\n",
       "      <td>0</td>\n",
       "      <td>0</td>\n",
       "      <td>0</td>\n",
       "      <td>1</td>\n",
       "      <td>0</td>\n",
       "      <td>0</td>\n",
       "      <td>0</td>\n",
       "      <td>0</td>\n",
       "    </tr>\n",
       "    <tr>\n",
       "      <th>2</th>\n",
       "      <td>3</td>\n",
       "      <td>167.0</td>\n",
       "      <td>97.0</td>\n",
       "      <td>0</td>\n",
       "      <td>1</td>\n",
       "      <td>0</td>\n",
       "      <td>0</td>\n",
       "      <td>0</td>\n",
       "      <td>0</td>\n",
       "      <td>0</td>\n",
       "      <td>...</td>\n",
       "      <td>0</td>\n",
       "      <td>0</td>\n",
       "      <td>1</td>\n",
       "      <td>0</td>\n",
       "      <td>0</td>\n",
       "      <td>0</td>\n",
       "      <td>0</td>\n",
       "      <td>1</td>\n",
       "      <td>0</td>\n",
       "      <td>0</td>\n",
       "    </tr>\n",
       "    <tr>\n",
       "      <th>3</th>\n",
       "      <td>4</td>\n",
       "      <td>176.0</td>\n",
       "      <td>122.0</td>\n",
       "      <td>1</td>\n",
       "      <td>1</td>\n",
       "      <td>1</td>\n",
       "      <td>0</td>\n",
       "      <td>0</td>\n",
       "      <td>0</td>\n",
       "      <td>1</td>\n",
       "      <td>...</td>\n",
       "      <td>0</td>\n",
       "      <td>0</td>\n",
       "      <td>0</td>\n",
       "      <td>0</td>\n",
       "      <td>0</td>\n",
       "      <td>0</td>\n",
       "      <td>0</td>\n",
       "      <td>0</td>\n",
       "      <td>0</td>\n",
       "      <td>0</td>\n",
       "    </tr>\n",
       "    <tr>\n",
       "      <th>4</th>\n",
       "      <td>5</td>\n",
       "      <td>175.0</td>\n",
       "      <td>126.0</td>\n",
       "      <td>1</td>\n",
       "      <td>1</td>\n",
       "      <td>1</td>\n",
       "      <td>0</td>\n",
       "      <td>0</td>\n",
       "      <td>0</td>\n",
       "      <td>0</td>\n",
       "      <td>...</td>\n",
       "      <td>0</td>\n",
       "      <td>0</td>\n",
       "      <td>0</td>\n",
       "      <td>0</td>\n",
       "      <td>0</td>\n",
       "      <td>0</td>\n",
       "      <td>0</td>\n",
       "      <td>0</td>\n",
       "      <td>0</td>\n",
       "      <td>0</td>\n",
       "    </tr>\n",
       "  </tbody>\n",
       "</table>\n",
       "<p>5 rows × 33 columns</p>\n",
       "</div>"
      ],
      "text/plain": [
       "   customer_id  max_length  ave_length  kids  sports  foreign  \\\n",
       "0            1       180.0       128.0     0       1        1   \n",
       "1            2       185.0       142.0     1       1        0   \n",
       "2            3       167.0        97.0     0       1        0   \n",
       "3            4       176.0       122.0     1       1        1   \n",
       "4            5       175.0       126.0     1       1        1   \n",
       "\n",
       "   fav_title_Oz Liaisons  fav_title_Telemark Heartbreakers  \\\n",
       "0                      0                                 0   \n",
       "1                      0                                 0   \n",
       "2                      0                                 0   \n",
       "3                      0                                 0   \n",
       "4                      0                                 0   \n",
       "\n",
       "   fav_title_Wedding Apollo  rating_G           ...            \\\n",
       "0                         0         0           ...             \n",
       "1                         0         0           ...             \n",
       "2                         0         0           ...             \n",
       "3                         0         1           ...             \n",
       "4                         0         0           ...             \n",
       "\n",
       "   fav_category_Games  fav_category_Horror  fav_category_Music  \\\n",
       "0                   0                    0                   0   \n",
       "1                   0                    0                   0   \n",
       "2                   0                    0                   1   \n",
       "3                   0                    0                   0   \n",
       "4                   0                    0                   0   \n",
       "\n",
       "   fav_category_New  fav_category_Sci-Fi  fav_category_Sports  \\\n",
       "0                 0                    0                    0   \n",
       "1                 0                    0                    1   \n",
       "2                 0                    0                    0   \n",
       "3                 0                    0                    0   \n",
       "4                 0                    0                    0   \n",
       "\n",
       "   fav_category_Travel  fav_actor_Jayne_Nolte  fav_actor_Renee_Tracy  \\\n",
       "0                    0                      0                      0   \n",
       "1                    0                      0                      0   \n",
       "2                    0                      1                      0   \n",
       "3                    0                      0                      0   \n",
       "4                    0                      0                      0   \n",
       "\n",
       "   fav_actor_Sidney_Crowe  \n",
       "0                       0  \n",
       "1                       0  \n",
       "2                       0  \n",
       "3                       0  \n",
       "4                       0  \n",
       "\n",
       "[5 rows x 33 columns]"
      ]
     },
     "execution_count": 257,
     "metadata": {},
     "output_type": "execute_result"
    }
   ],
   "source": [
    "df_pref = get_dummies(df_pref)\n",
    "df_pref.head()"
   ]
  },
  {
   "cell_type": "markdown",
   "metadata": {},
   "source": [
    "<br />"
   ]
  },
  {
   "cell_type": "markdown",
   "metadata": {},
   "source": [
    "<br />"
   ]
  },
  {
   "cell_type": "markdown",
   "metadata": {},
   "source": [
    "<br />"
   ]
  },
  {
   "cell_type": "markdown",
   "metadata": {},
   "source": [
    "<br />"
   ]
  },
  {
   "cell_type": "markdown",
   "metadata": {},
   "source": [
    "### Let's get all the data together"
   ]
  },
  {
   "cell_type": "code",
   "execution_count": 258,
   "metadata": {},
   "outputs": [
    {
     "data": {
      "text/html": [
       "<div>\n",
       "<style scoped>\n",
       "    .dataframe tbody tr th:only-of-type {\n",
       "        vertical-align: middle;\n",
       "    }\n",
       "\n",
       "    .dataframe tbody tr th {\n",
       "        vertical-align: top;\n",
       "    }\n",
       "\n",
       "    .dataframe thead th {\n",
       "        text-align: right;\n",
       "    }\n",
       "</style>\n",
       "<table border=\"1\" class=\"dataframe\">\n",
       "  <thead>\n",
       "    <tr style=\"text-align: right;\">\n",
       "      <th></th>\n",
       "      <th>customer_id</th>\n",
       "      <th>store_id</th>\n",
       "      <th>active</th>\n",
       "      <th>city_Aurora</th>\n",
       "      <th>city_London</th>\n",
       "      <th>country_China</th>\n",
       "      <th>country_India</th>\n",
       "      <th>total_dvds</th>\n",
       "      <th>ave_rent_time</th>\n",
       "      <th>total_rental_custom_days</th>\n",
       "      <th>...</th>\n",
       "      <th>fav_category_Games</th>\n",
       "      <th>fav_category_Horror</th>\n",
       "      <th>fav_category_Music</th>\n",
       "      <th>fav_category_New</th>\n",
       "      <th>fav_category_Sci-Fi</th>\n",
       "      <th>fav_category_Sports</th>\n",
       "      <th>fav_category_Travel</th>\n",
       "      <th>fav_actor_Jayne_Nolte</th>\n",
       "      <th>fav_actor_Renee_Tracy</th>\n",
       "      <th>fav_actor_Sidney_Crowe</th>\n",
       "    </tr>\n",
       "  </thead>\n",
       "  <tbody>\n",
       "    <tr>\n",
       "      <th>0</th>\n",
       "      <td>1</td>\n",
       "      <td>1</td>\n",
       "      <td>1.0</td>\n",
       "      <td>0</td>\n",
       "      <td>0</td>\n",
       "      <td>0</td>\n",
       "      <td>0</td>\n",
       "      <td>32</td>\n",
       "      <td>3.5</td>\n",
       "      <td>89.0</td>\n",
       "      <td>...</td>\n",
       "      <td>0</td>\n",
       "      <td>0</td>\n",
       "      <td>0</td>\n",
       "      <td>0</td>\n",
       "      <td>0</td>\n",
       "      <td>0</td>\n",
       "      <td>0</td>\n",
       "      <td>0</td>\n",
       "      <td>0</td>\n",
       "      <td>0</td>\n",
       "    </tr>\n",
       "    <tr>\n",
       "      <th>1</th>\n",
       "      <td>2</td>\n",
       "      <td>1</td>\n",
       "      <td>1.0</td>\n",
       "      <td>0</td>\n",
       "      <td>0</td>\n",
       "      <td>0</td>\n",
       "      <td>0</td>\n",
       "      <td>27</td>\n",
       "      <td>5.0</td>\n",
       "      <td>88.0</td>\n",
       "      <td>...</td>\n",
       "      <td>0</td>\n",
       "      <td>0</td>\n",
       "      <td>0</td>\n",
       "      <td>0</td>\n",
       "      <td>0</td>\n",
       "      <td>1</td>\n",
       "      <td>0</td>\n",
       "      <td>0</td>\n",
       "      <td>0</td>\n",
       "      <td>0</td>\n",
       "    </tr>\n",
       "    <tr>\n",
       "      <th>2</th>\n",
       "      <td>3</td>\n",
       "      <td>1</td>\n",
       "      <td>1.0</td>\n",
       "      <td>0</td>\n",
       "      <td>0</td>\n",
       "      <td>0</td>\n",
       "      <td>0</td>\n",
       "      <td>26</td>\n",
       "      <td>6.0</td>\n",
       "      <td>87.0</td>\n",
       "      <td>...</td>\n",
       "      <td>0</td>\n",
       "      <td>0</td>\n",
       "      <td>1</td>\n",
       "      <td>0</td>\n",
       "      <td>0</td>\n",
       "      <td>0</td>\n",
       "      <td>0</td>\n",
       "      <td>1</td>\n",
       "      <td>0</td>\n",
       "      <td>0</td>\n",
       "    </tr>\n",
       "    <tr>\n",
       "      <th>3</th>\n",
       "      <td>4</td>\n",
       "      <td>2</td>\n",
       "      <td>1.0</td>\n",
       "      <td>0</td>\n",
       "      <td>0</td>\n",
       "      <td>0</td>\n",
       "      <td>0</td>\n",
       "      <td>22</td>\n",
       "      <td>3.0</td>\n",
       "      <td>68.0</td>\n",
       "      <td>...</td>\n",
       "      <td>0</td>\n",
       "      <td>0</td>\n",
       "      <td>0</td>\n",
       "      <td>0</td>\n",
       "      <td>0</td>\n",
       "      <td>0</td>\n",
       "      <td>0</td>\n",
       "      <td>0</td>\n",
       "      <td>0</td>\n",
       "      <td>0</td>\n",
       "    </tr>\n",
       "    <tr>\n",
       "      <th>4</th>\n",
       "      <td>5</td>\n",
       "      <td>1</td>\n",
       "      <td>1.0</td>\n",
       "      <td>0</td>\n",
       "      <td>0</td>\n",
       "      <td>0</td>\n",
       "      <td>0</td>\n",
       "      <td>38</td>\n",
       "      <td>4.5</td>\n",
       "      <td>261.0</td>\n",
       "      <td>...</td>\n",
       "      <td>0</td>\n",
       "      <td>0</td>\n",
       "      <td>0</td>\n",
       "      <td>0</td>\n",
       "      <td>0</td>\n",
       "      <td>0</td>\n",
       "      <td>0</td>\n",
       "      <td>0</td>\n",
       "      <td>0</td>\n",
       "      <td>0</td>\n",
       "    </tr>\n",
       "  </tbody>\n",
       "</table>\n",
       "<p>5 rows × 51 columns</p>\n",
       "</div>"
      ],
      "text/plain": [
       "   customer_id  store_id  active  city_Aurora  city_London  country_China  \\\n",
       "0            1         1     1.0            0            0              0   \n",
       "1            2         1     1.0            0            0              0   \n",
       "2            3         1     1.0            0            0              0   \n",
       "3            4         2     1.0            0            0              0   \n",
       "4            5         1     1.0            0            0              0   \n",
       "\n",
       "   country_India  total_dvds  ave_rent_time  total_rental_custom_days  \\\n",
       "0              0          32            3.5                      89.0   \n",
       "1              0          27            5.0                      88.0   \n",
       "2              0          26            6.0                      87.0   \n",
       "3              0          22            3.0                      68.0   \n",
       "4              0          38            4.5                     261.0   \n",
       "\n",
       "            ...            fav_category_Games  fav_category_Horror  \\\n",
       "0           ...                             0                    0   \n",
       "1           ...                             0                    0   \n",
       "2           ...                             0                    0   \n",
       "3           ...                             0                    0   \n",
       "4           ...                             0                    0   \n",
       "\n",
       "   fav_category_Music  fav_category_New  fav_category_Sci-Fi  \\\n",
       "0                   0                 0                    0   \n",
       "1                   0                 0                    0   \n",
       "2                   1                 0                    0   \n",
       "3                   0                 0                    0   \n",
       "4                   0                 0                    0   \n",
       "\n",
       "   fav_category_Sports  fav_category_Travel  fav_actor_Jayne_Nolte  \\\n",
       "0                    0                    0                      0   \n",
       "1                    1                    0                      0   \n",
       "2                    0                    0                      1   \n",
       "3                    0                    0                      0   \n",
       "4                    0                    0                      0   \n",
       "\n",
       "   fav_actor_Renee_Tracy  fav_actor_Sidney_Crowe  \n",
       "0                      0                       0  \n",
       "1                      0                       0  \n",
       "2                      0                       0  \n",
       "3                      0                       0  \n",
       "4                      0                       0  \n",
       "\n",
       "[5 rows x 51 columns]"
      ]
     },
     "execution_count": 258,
     "metadata": {},
     "output_type": "execute_result"
    }
   ],
   "source": [
    "dataframes = [df_dm, df_time, df_pay, df_pref]\n",
    "customer_data = reduce(lambda left, right: pd.merge(left, right, on='customer_id', how='left'), dataframes)\n",
    "\n",
    "customer_data.head()"
   ]
  },
  {
   "cell_type": "code",
   "execution_count": 259,
   "metadata": {},
   "outputs": [
    {
     "data": {
      "text/plain": [
       "False"
      ]
     },
     "execution_count": 259,
     "metadata": {},
     "output_type": "execute_result"
    }
   ],
   "source": [
    "customer_data.isna().any().any()"
   ]
  },
  {
   "cell_type": "markdown",
   "metadata": {},
   "source": [
    "<br />"
   ]
  },
  {
   "cell_type": "markdown",
   "metadata": {},
   "source": [
    "<br />"
   ]
  },
  {
   "cell_type": "markdown",
   "metadata": {},
   "source": [
    "<br />"
   ]
  },
  {
   "cell_type": "markdown",
   "metadata": {},
   "source": [
    "<br />"
   ]
  },
  {
   "cell_type": "markdown",
   "metadata": {},
   "source": [
    "### Have a looksee what the data looks like"
   ]
  },
  {
   "cell_type": "code",
   "execution_count": 260,
   "metadata": {},
   "outputs": [
    {
     "data": {
      "text/html": [
       "<div>\n",
       "<style scoped>\n",
       "    .dataframe tbody tr th:only-of-type {\n",
       "        vertical-align: middle;\n",
       "    }\n",
       "\n",
       "    .dataframe tbody tr th {\n",
       "        vertical-align: top;\n",
       "    }\n",
       "\n",
       "    .dataframe thead th {\n",
       "        text-align: right;\n",
       "    }\n",
       "</style>\n",
       "<table border=\"1\" class=\"dataframe\">\n",
       "  <thead>\n",
       "    <tr style=\"text-align: right;\">\n",
       "      <th></th>\n",
       "      <th>customer_id</th>\n",
       "      <th>store_id</th>\n",
       "      <th>active</th>\n",
       "      <th>amount</th>\n",
       "      <th>title</th>\n",
       "      <th>length</th>\n",
       "      <th>rating</th>\n",
       "      <th>category</th>\n",
       "      <th>actor_name</th>\n",
       "      <th>language</th>\n",
       "      <th>...</th>\n",
       "      <th>total_rental_orders</th>\n",
       "      <th>max_length</th>\n",
       "      <th>ave_length</th>\n",
       "      <th>kids</th>\n",
       "      <th>sports</th>\n",
       "      <th>foreign</th>\n",
       "      <th>fav_category_Comedy</th>\n",
       "      <th>fav_category_Drama</th>\n",
       "      <th>fav_category_Horror</th>\n",
       "      <th>fav_category_Sci-Fi</th>\n",
       "    </tr>\n",
       "  </thead>\n",
       "  <tbody>\n",
       "    <tr>\n",
       "      <th>0</th>\n",
       "      <td>524</td>\n",
       "      <td>1</td>\n",
       "      <td>1.0</td>\n",
       "      <td>1.99</td>\n",
       "      <td>Secrets Paradise</td>\n",
       "      <td>109.0</td>\n",
       "      <td>G</td>\n",
       "      <td>Family</td>\n",
       "      <td>Reese_Kilmer</td>\n",
       "      <td>English</td>\n",
       "      <td>...</td>\n",
       "      <td>12</td>\n",
       "      <td>182.0</td>\n",
       "      <td>110.0</td>\n",
       "      <td>0</td>\n",
       "      <td>0</td>\n",
       "      <td>1</td>\n",
       "      <td>0</td>\n",
       "      <td>0</td>\n",
       "      <td>0</td>\n",
       "      <td>0</td>\n",
       "    </tr>\n",
       "    <tr>\n",
       "      <th>1</th>\n",
       "      <td>524</td>\n",
       "      <td>1</td>\n",
       "      <td>1.0</td>\n",
       "      <td>1.99</td>\n",
       "      <td>Secrets Paradise</td>\n",
       "      <td>109.0</td>\n",
       "      <td>G</td>\n",
       "      <td>Family</td>\n",
       "      <td>Gene_Willis</td>\n",
       "      <td>English</td>\n",
       "      <td>...</td>\n",
       "      <td>12</td>\n",
       "      <td>182.0</td>\n",
       "      <td>110.0</td>\n",
       "      <td>0</td>\n",
       "      <td>0</td>\n",
       "      <td>1</td>\n",
       "      <td>0</td>\n",
       "      <td>0</td>\n",
       "      <td>0</td>\n",
       "      <td>0</td>\n",
       "    </tr>\n",
       "    <tr>\n",
       "      <th>2</th>\n",
       "      <td>524</td>\n",
       "      <td>1</td>\n",
       "      <td>1.0</td>\n",
       "      <td>1.99</td>\n",
       "      <td>Secrets Paradise</td>\n",
       "      <td>109.0</td>\n",
       "      <td>G</td>\n",
       "      <td>Family</td>\n",
       "      <td>Renee_Tracy</td>\n",
       "      <td>English</td>\n",
       "      <td>...</td>\n",
       "      <td>12</td>\n",
       "      <td>182.0</td>\n",
       "      <td>110.0</td>\n",
       "      <td>0</td>\n",
       "      <td>0</td>\n",
       "      <td>1</td>\n",
       "      <td>0</td>\n",
       "      <td>0</td>\n",
       "      <td>0</td>\n",
       "      <td>0</td>\n",
       "    </tr>\n",
       "    <tr>\n",
       "      <th>3</th>\n",
       "      <td>524</td>\n",
       "      <td>1</td>\n",
       "      <td>1.0</td>\n",
       "      <td>1.99</td>\n",
       "      <td>Secrets Paradise</td>\n",
       "      <td>109.0</td>\n",
       "      <td>G</td>\n",
       "      <td>Family</td>\n",
       "      <td>Whoopi_Hurt</td>\n",
       "      <td>English</td>\n",
       "      <td>...</td>\n",
       "      <td>12</td>\n",
       "      <td>182.0</td>\n",
       "      <td>110.0</td>\n",
       "      <td>0</td>\n",
       "      <td>0</td>\n",
       "      <td>1</td>\n",
       "      <td>0</td>\n",
       "      <td>0</td>\n",
       "      <td>0</td>\n",
       "      <td>0</td>\n",
       "    </tr>\n",
       "    <tr>\n",
       "      <th>4</th>\n",
       "      <td>524</td>\n",
       "      <td>1</td>\n",
       "      <td>1.0</td>\n",
       "      <td>1.99</td>\n",
       "      <td>Secrets Paradise</td>\n",
       "      <td>109.0</td>\n",
       "      <td>G</td>\n",
       "      <td>Family</td>\n",
       "      <td>Kenneth_Hoffman</td>\n",
       "      <td>English</td>\n",
       "      <td>...</td>\n",
       "      <td>12</td>\n",
       "      <td>182.0</td>\n",
       "      <td>110.0</td>\n",
       "      <td>0</td>\n",
       "      <td>0</td>\n",
       "      <td>1</td>\n",
       "      <td>0</td>\n",
       "      <td>0</td>\n",
       "      <td>0</td>\n",
       "      <td>0</td>\n",
       "    </tr>\n",
       "  </tbody>\n",
       "</table>\n",
       "<p>5 rows × 31 columns</p>\n",
       "</div>"
      ],
      "text/plain": [
       "   customer_id  store_id  active  amount             title  length rating  \\\n",
       "0          524         1     1.0    1.99  Secrets Paradise   109.0      G   \n",
       "1          524         1     1.0    1.99  Secrets Paradise   109.0      G   \n",
       "2          524         1     1.0    1.99  Secrets Paradise   109.0      G   \n",
       "3          524         1     1.0    1.99  Secrets Paradise   109.0      G   \n",
       "4          524         1     1.0    1.99  Secrets Paradise   109.0      G   \n",
       "\n",
       "  category       actor_name              language         ...           \\\n",
       "0   Family     Reese_Kilmer  English                      ...            \n",
       "1   Family      Gene_Willis  English                      ...            \n",
       "2   Family      Renee_Tracy  English                      ...            \n",
       "3   Family      Whoopi_Hurt  English                      ...            \n",
       "4   Family  Kenneth_Hoffman  English                      ...            \n",
       "\n",
       "   total_rental_orders  max_length  ave_length  kids  sports  foreign  \\\n",
       "0                   12       182.0       110.0     0       0        1   \n",
       "1                   12       182.0       110.0     0       0        1   \n",
       "2                   12       182.0       110.0     0       0        1   \n",
       "3                   12       182.0       110.0     0       0        1   \n",
       "4                   12       182.0       110.0     0       0        1   \n",
       "\n",
       "   fav_category_Comedy  fav_category_Drama  fav_category_Horror  \\\n",
       "0                    0                   0                    0   \n",
       "1                    0                   0                    0   \n",
       "2                    0                   0                    0   \n",
       "3                    0                   0                    0   \n",
       "4                    0                   0                    0   \n",
       "\n",
       "   fav_category_Sci-Fi  \n",
       "0                    0  \n",
       "1                    0  \n",
       "2                    0  \n",
       "3                    0  \n",
       "4                    0  \n",
       "\n",
       "[5 rows x 31 columns]"
      ]
     },
     "execution_count": 260,
     "metadata": {},
     "output_type": "execute_result"
    }
   ],
   "source": [
    "dataframes = [dvdrental_demographics[['customer_id',\n",
    "                                      'store_id',\n",
    "                                      'active',\n",
    "                                      'city',\n",
    "                                      'country']],  \n",
    "              dvdrental_pay[['customer_id',\n",
    "                             'amount']], \n",
    "              dvdrental_preference[['customer_id',\n",
    "                                    'title',\n",
    "                                    'length',\n",
    "                                    'rating',\n",
    "                                    'category',\n",
    "                                    'actor_name',\n",
    "                                    'language']],\n",
    "             customer_data[['customer_id',\n",
    "                           'total_dvds',\n",
    "                           'ave_rent_time',\n",
    "                           'total_rental_custom_days',\n",
    "                           'max_dvd_amount',\n",
    "                           'min_dvd_amount',\n",
    "                           'ave_dvd_amount',\n",
    "                           'ave_dvds_order',\n",
    "                           'max_dvds_order',\n",
    "                           'max_order_amount',\n",
    "                           'ave_order_amount',\n",
    "                           'total_lifetime_amount',\n",
    "                           'total_rental_orders',\n",
    "                           'max_length',\n",
    "                           'ave_length',\n",
    "                           'kids',\n",
    "                           'sports',\n",
    "                           'foreign',\n",
    "                           'fav_category_Comedy',\n",
    "                           'fav_category_Drama',\n",
    "                           'fav_category_Horror',\n",
    "                           'fav_category_Sci-Fi'\n",
    " ]]]\n",
    "\n",
    "view_data = reduce(lambda left, right: pd.merge(left, right, on='customer_id', how='left'), dataframes)\n",
    "view_data.dropna(axis=1, inplace=True)\n",
    "view_data.head()"
   ]
  },
  {
   "cell_type": "code",
   "execution_count": 261,
   "metadata": {
    "scrolled": true
   },
   "outputs": [
    {
     "name": "stdout",
     "output_type": "stream",
     "text": [
      "<class 'pandas.core.frame.DataFrame'>\n",
      "Int64Index: 1119716 entries, 0 to 1119715\n",
      "Data columns (total 31 columns):\n",
      "customer_id                 1119716 non-null int64\n",
      "store_id                    1119716 non-null int64\n",
      "active                      1119716 non-null float64\n",
      "amount                      1119716 non-null float64\n",
      "title                       1119716 non-null object\n",
      "length                      1119716 non-null float64\n",
      "rating                      1119716 non-null object\n",
      "category                    1119716 non-null object\n",
      "actor_name                  1119716 non-null object\n",
      "language                    1119716 non-null object\n",
      "total_dvds                  1119716 non-null int64\n",
      "ave_rent_time               1119716 non-null float64\n",
      "total_rental_custom_days    1119716 non-null float64\n",
      "max_dvd_amount              1119716 non-null float64\n",
      "min_dvd_amount              1119716 non-null float64\n",
      "ave_dvd_amount              1119716 non-null float64\n",
      "ave_dvds_order              1119716 non-null float64\n",
      "max_dvds_order              1119716 non-null int64\n",
      "max_order_amount            1119716 non-null float64\n",
      "ave_order_amount            1119716 non-null float64\n",
      "total_lifetime_amount       1119716 non-null float64\n",
      "total_rental_orders         1119716 non-null int64\n",
      "max_length                  1119716 non-null float64\n",
      "ave_length                  1119716 non-null float64\n",
      "kids                        1119716 non-null int64\n",
      "sports                      1119716 non-null int64\n",
      "foreign                     1119716 non-null int64\n",
      "fav_category_Comedy         1119716 non-null uint8\n",
      "fav_category_Drama          1119716 non-null uint8\n",
      "fav_category_Horror         1119716 non-null uint8\n",
      "fav_category_Sci-Fi         1119716 non-null uint8\n",
      "dtypes: float64(14), int64(8), object(5), uint8(4)\n",
      "memory usage: 243.5+ MB\n"
     ]
    }
   ],
   "source": [
    "view_data.info()"
   ]
  },
  {
   "cell_type": "code",
   "execution_count": 262,
   "metadata": {},
   "outputs": [],
   "source": [
    "view_data.to_csv('view_data.csv', index=False)"
   ]
  },
  {
   "cell_type": "code",
   "execution_count": 263,
   "metadata": {},
   "outputs": [
    {
     "data": {
      "text/plain": [
       "<matplotlib.collections.PathCollection at 0x12d0517f0>"
      ]
     },
     "execution_count": 263,
     "metadata": {},
     "output_type": "execute_result"
    },
    {
     "data": {
      "image/png": "[encoded data removed]",
      "text/plain": [
       "<Figure size 864x576 with 1 Axes>"
      ]
     },
     "metadata": {},
     "output_type": "display_data"
    }
   ],
   "source": [
    "plt.scatter(view_data.ave_dvd_amount, view_data.max_order_amount, c=view_data.max_dvd_amount)"
   ]
  },
  {
   "cell_type": "code",
   "execution_count": 264,
   "metadata": {
    "scrolled": false
   },
   "outputs": [
    {
     "data": {
      "text/plain": [
       "(array([9.67401855e-05, 1.35990728e-04, 1.39215401e-03, 5.31655169e-03,\n",
       "        1.04156204e-02, 1.44093996e-02, 1.56355048e-02, 1.32696017e-02,\n",
       "        9.36329725e-03, 6.23113311e-03, 2.29922093e-03, 1.16000675e-03,\n",
       "        2.51042970e-04, 8.16163240e-04, 8.98020320e-04]),\n",
       " array([ 27.93      ,  40.17133333,  52.41266667,  64.654     ,\n",
       "         76.89533333,  89.13666667, 101.378     , 113.61933333,\n",
       "        125.86066667, 138.102     , 150.34333333, 162.58466667,\n",
       "        174.826     , 187.06733333, 199.30866667, 211.55      ]),\n",
       " <a list of 15 Patch objects>)"
      ]
     },
     "execution_count": 264,
     "metadata": {},
     "output_type": "execute_result"
    },
    {
     "data": {
      "image/png": "[encoded data removed]",
      "text/plain": [
       "<Figure size 864x576 with 1 Axes>"
      ]
     },
     "metadata": {},
     "output_type": "display_data"
    }
   ],
   "source": [
    "plt.hist(view_data.total_lifetime_amount, bins=15, density=True)"
   ]
  },
  {
   "cell_type": "code",
   "execution_count": 265,
   "metadata": {},
   "outputs": [
    {
     "data": {
      "text/plain": [
       "([<matplotlib.patches.Wedge at 0x11e587f98>,\n",
       "  <matplotlib.patches.Wedge at 0x11e5734e0>,\n",
       "  <matplotlib.patches.Wedge at 0x11e5739b0>,\n",
       "  <matplotlib.patches.Wedge at 0x11e573e80>],\n",
       " [Text(0.94431690607104, 0.5641503176533881, 'Comedy'),\n",
       "  Text(-0.617230023812459, 0.9105092518500135, 'Drama'),\n",
       "  Text(-0.8383534551246952, -0.7121541155399482, 'Horror'),\n",
       "  Text(0.6630455009186644, -0.877707618578942, 'Sci-Fi')])"
      ]
     },
     "execution_count": 265,
     "metadata": {},
     "output_type": "execute_result"
    },
    {
     "data": {
      "image/png": "[encoded data removed]",
      "text/plain": [
       "<Figure size 864x576 with 1 Axes>"
      ]
     },
     "metadata": {},
     "output_type": "display_data"
    }
   ],
   "source": [
    "cat_size = [view_data['fav_category_Comedy'].sum(), \n",
    "            view_data['fav_category_Drama'].sum(),\n",
    "            view_data['fav_category_Horror'].sum(),\n",
    "            view_data['fav_category_Sci-Fi'].sum()]\n",
    "cat_labels = ['Comedy',\n",
    "             'Drama',\n",
    "             'Horror',\n",
    "             'Sci-Fi']\n",
    "plt.pie(cat_size, labels=cat_labels)"
   ]
  },
  {
   "cell_type": "code",
   "execution_count": 266,
   "metadata": {},
   "outputs": [
    {
     "data": {
      "text/plain": [
       "([<matplotlib.patches.Wedge at 0x10c5009e8>,\n",
       "  <matplotlib.patches.Wedge at 0x10c500f28>,\n",
       "  <matplotlib.patches.Wedge at 0x135c6d438>,\n",
       "  <matplotlib.patches.Wedge at 0x135c6d908>],\n",
       " [Text(0.633073043344306, 0.8995657406720081, 'kids'),\n",
       "  Text(-1.089171458729192, 0.1539660140736394, 'sports'),\n",
       "  Text(0.4251648948564696, -1.0145121054879962, 'foreign'),\n",
       "  Text(1.0968278657868409, -0.08347833751030088, 'none')])"
      ]
     },
     "execution_count": 266,
     "metadata": {},
     "output_type": "execute_result"
    },
    {
     "data": {
      "image/png": "[encoded data removed]",
      "text/plain": [
       "<Figure size 864x576 with 1 Axes>"
      ]
     },
     "metadata": {},
     "output_type": "display_data"
    }
   ],
   "source": [
    "cat_size2 = [view_data['kids'].sum(), \n",
    "            view_data['sports'].sum(),\n",
    "            view_data['foreign'].sum(),\n",
    "            view_data[(view_data['kids'] == 0) & \\\n",
    "                      (view_data['sports'] == 0) & \\\n",
    "                      (view_data['foreign'] == 0)].shape[0]]\n",
    "cat_labels2 = ['kids',\n",
    "             'sports',\n",
    "             'foreign',\n",
    "             'none']\n",
    "plt.pie(cat_size2, labels=cat_labels2, colors=['yellowgreen', 'gold', 'lightskyblue', 'lightcoral'])"
   ]
  },
  {
   "cell_type": "markdown",
   "metadata": {},
   "source": [
    "<br />"
   ]
  },
  {
   "cell_type": "markdown",
   "metadata": {},
   "source": [
    "<br />"
   ]
  },
  {
   "cell_type": "markdown",
   "metadata": {},
   "source": [
    "<br />"
   ]
  },
  {
   "cell_type": "markdown",
   "metadata": {},
   "source": [
    "<br />"
   ]
  },
  {
   "cell_type": "markdown",
   "metadata": {},
   "source": [
    "## Let's look at some Algorithms!\n",
    "\n",
    "#### Preprocessing\n",
    "\n",
    "Before we can pass our dataset in we may need to do some preprocessing. \n",
    "\n",
    " - We need to scale all our numbers to be of the same order of magnitude, so some numbers don't appear more important than others.\n",
    " - We could reduce our feature set.\n",
    " - Later we can play around with feature weights.\n",
    "\n"
   ]
  },
  {
   "cell_type": "markdown",
   "metadata": {},
   "source": [
    "<br />"
   ]
  },
  {
   "cell_type": "markdown",
   "metadata": {},
   "source": [
    "<br />"
   ]
  },
  {
   "cell_type": "markdown",
   "metadata": {},
   "source": [
    "<br />"
   ]
  },
  {
   "cell_type": "markdown",
   "metadata": {},
   "source": [
    "<br />"
   ]
  },
  {
   "cell_type": "markdown",
   "metadata": {},
   "source": [
    "#### Machine Learning!\n",
    "\n",
    "We're doing **unsupervised classification**. We are sorting our customers into groups but we have no idea what sorts of groups they are.\n",
    "\n",
    "What can we use?\n",
    "\n",
    "Scikit-Learn has various clustering algorithms. I've tried out a few:\n",
    "\n",
    " - **K-Means**\n",
    " - **Mini Batch K-Means**\n",
    " - **Agglomerative Clustering**\n",
    " - **Birch Clustering**\n",
    " \n",
    "![clustering algorithms](img/scikitlearn_clustering.png)\n",
    "\n",
    "Maybe there's a better algorithm out there! Feel free to try out some others.\n",
    "[scikit-learn clustering](http://scikit-learn.org/stable/modules/clustering.html#clustering)\n"
   ]
  },
  {
   "cell_type": "markdown",
   "metadata": {},
   "source": [
    "<br />"
   ]
  },
  {
   "cell_type": "markdown",
   "metadata": {},
   "source": [
    "<br />"
   ]
  },
  {
   "cell_type": "markdown",
   "metadata": {},
   "source": [
    "#### Scoring\n",
    "\n",
    "We need a way to tell how well we're doing.\n",
    "\n",
    " - **Calinski Harabaz score**\n",
    " - **Silhouette score**\n",
    " \n",
    "Higher scores mean better defined clusters. \n",
    " \n",
    "So, let's get going:"
   ]
  },
  {
   "cell_type": "markdown",
   "metadata": {},
   "source": [
    "<br />"
   ]
  },
  {
   "cell_type": "markdown",
   "metadata": {},
   "source": [
    "<br />"
   ]
  },
  {
   "cell_type": "markdown",
   "metadata": {},
   "source": [
    "\n",
    "\n",
    "## Some ML Functions"
   ]
  },
  {
   "cell_type": "code",
   "execution_count": 268,
   "metadata": {},
   "outputs": [],
   "source": [
    "def standard_normalized_vars(x):\n",
    "    column_names = []\n",
    "    for i in range(0,len(x.columns)):\n",
    "        if x.dtypes[i] in ['int64','float64','uint8']:\n",
    "            column_names.append(x.columns[i])    \n",
    "    x[column_names] = x[column_names].fillna(0)\n",
    "    x[column_names] = x[column_names].astype(float)\n",
    "    df = x[column_names].values #returns a numpy array\n",
    "    min_max_scaler = preprocessing.StandardScaler()\n",
    "    x_scaled = min_max_scaler.fit_transform(df)\n",
    "    df = pd.DataFrame(x_scaled)\n",
    "    df.columns = column_names\n",
    "    x[column_names] = df[column_names]\n",
    "    return x"
   ]
  },
  {
   "cell_type": "code",
   "execution_count": 267,
   "metadata": {},
   "outputs": [],
   "source": [
    "def pca_reduce(x, comp_n):\n",
    "    pca_in = x.copy()\n",
    "    pca_n = PCA(n_components=comp_n, \n",
    "          copy=True, \n",
    "          whiten=False, \n",
    "          svd_solver='auto', \n",
    "          tol=0.0, \n",
    "          iterated_power='auto', \n",
    "          random_state=0)\n",
    "    X_pca = pca_n.fit(pca_in)\n",
    "    trans_pca = pca_n.transform(pca_in)\n",
    "    df_pca = pd.DataFrame(trans_pca)\n",
    "    variance_ratio = X_pca.explained_variance_ratio_\n",
    "    print('pca_components ',comp_n,'   describe ',sum(variance_ratio))\n",
    "    return df_pca\n"
   ]
  },
  {
   "cell_type": "code",
   "execution_count": 269,
   "metadata": {},
   "outputs": [],
   "source": [
    "def train_kmeans(x, k):\n",
    "    KMModel = KMeans(n_clusters=k, \n",
    "                     init='k-means++', \n",
    "                     n_init=10, \n",
    "                     max_iter=600, \n",
    "                     tol=0.0001, \n",
    "                     precompute_distances='auto', \n",
    "                     verbose=0, \n",
    "                     random_state=1, \n",
    "                     copy_x=True, \n",
    "                     n_jobs=1, \n",
    "                     algorithm='auto')\n",
    "    KMModel.fit(x) \n",
    "    print(\"kmeans,\", k, \"clusters:   \",\n",
    "          \"calinski_harabaz_score\", calinski_harabaz_score(x, KMModel.labels_), \"   \",\n",
    "          \"silhouette_score\", silhouette_score(x, KMModel.labels_),'\\n' )\n",
    "    return KMModel"
   ]
  },
  {
   "cell_type": "markdown",
   "metadata": {},
   "source": [
    "<br />"
   ]
  },
  {
   "cell_type": "markdown",
   "metadata": {},
   "source": [
    "<br />"
   ]
  },
  {
   "cell_type": "markdown",
   "metadata": {},
   "source": [
    "<br />"
   ]
  },
  {
   "cell_type": "markdown",
   "metadata": {},
   "source": [
    "<br />"
   ]
  },
  {
   "cell_type": "markdown",
   "metadata": {},
   "source": [
    "Store the customer id for later"
   ]
  },
  {
   "cell_type": "code",
   "execution_count": 270,
   "metadata": {},
   "outputs": [],
   "source": [
    "ids = customer_data.customer_id.copy()"
   ]
  },
  {
   "cell_type": "code",
   "execution_count": 271,
   "metadata": {},
   "outputs": [],
   "source": [
    "customer_data.drop('customer_id', axis=1, inplace=True)"
   ]
  },
  {
   "cell_type": "markdown",
   "metadata": {},
   "source": [
    "### Scaling\n",
    "\n",
    "Scale so all numbers are proportional"
   ]
  },
  {
   "cell_type": "code",
   "execution_count": 272,
   "metadata": {},
   "outputs": [],
   "source": [
    "customer_data = standard_normalized_vars(customer_data)"
   ]
  },
  {
   "cell_type": "code",
   "execution_count": 273,
   "metadata": {},
   "outputs": [
    {
     "data": {
      "text/html": [
       "<div>\n",
       "<style scoped>\n",
       "    .dataframe tbody tr th:only-of-type {\n",
       "        vertical-align: middle;\n",
       "    }\n",
       "\n",
       "    .dataframe tbody tr th {\n",
       "        vertical-align: top;\n",
       "    }\n",
       "\n",
       "    .dataframe thead th {\n",
       "        text-align: right;\n",
       "    }\n",
       "</style>\n",
       "<table border=\"1\" class=\"dataframe\">\n",
       "  <thead>\n",
       "    <tr style=\"text-align: right;\">\n",
       "      <th></th>\n",
       "      <th>store_id</th>\n",
       "      <th>active</th>\n",
       "      <th>city_Aurora</th>\n",
       "      <th>city_London</th>\n",
       "      <th>country_China</th>\n",
       "      <th>country_India</th>\n",
       "      <th>total_dvds</th>\n",
       "      <th>ave_rent_time</th>\n",
       "      <th>total_rental_custom_days</th>\n",
       "      <th>max_dvd_amount</th>\n",
       "      <th>...</th>\n",
       "      <th>fav_category_Games</th>\n",
       "      <th>fav_category_Horror</th>\n",
       "      <th>fav_category_Music</th>\n",
       "      <th>fav_category_New</th>\n",
       "      <th>fav_category_Sci-Fi</th>\n",
       "      <th>fav_category_Sports</th>\n",
       "      <th>fav_category_Travel</th>\n",
       "      <th>fav_actor_Jayne_Nolte</th>\n",
       "      <th>fav_actor_Renee_Tracy</th>\n",
       "      <th>fav_actor_Sidney_Crowe</th>\n",
       "    </tr>\n",
       "  </thead>\n",
       "  <tbody>\n",
       "    <tr>\n",
       "      <th>0</th>\n",
       "      <td>-0.915108</td>\n",
       "      <td>0.160265</td>\n",
       "      <td>-0.05788</td>\n",
       "      <td>-0.05788</td>\n",
       "      <td>-0.31156</td>\n",
       "      <td>-0.333642</td>\n",
       "      <td>1.021400</td>\n",
       "      <td>-1.212015</td>\n",
       "      <td>-0.534638</td>\n",
       "      <td>0.596795</td>\n",
       "      <td>...</td>\n",
       "      <td>-0.195265</td>\n",
       "      <td>-0.195265</td>\n",
       "      <td>-0.225560</td>\n",
       "      <td>-0.241462</td>\n",
       "      <td>-0.25287</td>\n",
       "      <td>-0.363765</td>\n",
       "      <td>-0.217262</td>\n",
       "      <td>-0.136775</td>\n",
       "      <td>-0.142979</td>\n",
       "      <td>-0.148944</td>\n",
       "    </tr>\n",
       "    <tr>\n",
       "      <th>1</th>\n",
       "      <td>-0.915108</td>\n",
       "      <td>0.160265</td>\n",
       "      <td>-0.05788</td>\n",
       "      <td>-0.05788</td>\n",
       "      <td>-0.31156</td>\n",
       "      <td>-0.333642</td>\n",
       "      <td>0.042177</td>\n",
       "      <td>0.463363</td>\n",
       "      <td>-0.547484</td>\n",
       "      <td>1.372224</td>\n",
       "      <td>...</td>\n",
       "      <td>-0.195265</td>\n",
       "      <td>-0.195265</td>\n",
       "      <td>-0.225560</td>\n",
       "      <td>-0.241462</td>\n",
       "      <td>-0.25287</td>\n",
       "      <td>2.749026</td>\n",
       "      <td>-0.217262</td>\n",
       "      <td>-0.136775</td>\n",
       "      <td>-0.142979</td>\n",
       "      <td>-0.148944</td>\n",
       "    </tr>\n",
       "    <tr>\n",
       "      <th>2</th>\n",
       "      <td>-0.915108</td>\n",
       "      <td>0.160265</td>\n",
       "      <td>-0.05788</td>\n",
       "      <td>-0.05788</td>\n",
       "      <td>-0.31156</td>\n",
       "      <td>-0.333642</td>\n",
       "      <td>-0.153668</td>\n",
       "      <td>1.580281</td>\n",
       "      <td>-0.560330</td>\n",
       "      <td>1.372224</td>\n",
       "      <td>...</td>\n",
       "      <td>-0.195265</td>\n",
       "      <td>-0.195265</td>\n",
       "      <td>4.433415</td>\n",
       "      <td>-0.241462</td>\n",
       "      <td>-0.25287</td>\n",
       "      <td>-0.363765</td>\n",
       "      <td>-0.217262</td>\n",
       "      <td>7.311262</td>\n",
       "      <td>-0.142979</td>\n",
       "      <td>-0.148944</td>\n",
       "    </tr>\n",
       "    <tr>\n",
       "      <th>3</th>\n",
       "      <td>1.092767</td>\n",
       "      <td>0.160265</td>\n",
       "      <td>-0.05788</td>\n",
       "      <td>-0.05788</td>\n",
       "      <td>-0.31156</td>\n",
       "      <td>-0.333642</td>\n",
       "      <td>-0.937046</td>\n",
       "      <td>-1.770474</td>\n",
       "      <td>-0.804402</td>\n",
       "      <td>-0.178633</td>\n",
       "      <td>...</td>\n",
       "      <td>-0.195265</td>\n",
       "      <td>-0.195265</td>\n",
       "      <td>-0.225560</td>\n",
       "      <td>-0.241462</td>\n",
       "      <td>-0.25287</td>\n",
       "      <td>-0.363765</td>\n",
       "      <td>-0.217262</td>\n",
       "      <td>-0.136775</td>\n",
       "      <td>-0.142979</td>\n",
       "      <td>-0.148944</td>\n",
       "    </tr>\n",
       "    <tr>\n",
       "      <th>4</th>\n",
       "      <td>-0.915108</td>\n",
       "      <td>0.160265</td>\n",
       "      <td>-0.05788</td>\n",
       "      <td>-0.05788</td>\n",
       "      <td>-0.31156</td>\n",
       "      <td>-0.333642</td>\n",
       "      <td>2.196467</td>\n",
       "      <td>-0.095097</td>\n",
       "      <td>1.674857</td>\n",
       "      <td>0.596795</td>\n",
       "      <td>...</td>\n",
       "      <td>-0.195265</td>\n",
       "      <td>-0.195265</td>\n",
       "      <td>-0.225560</td>\n",
       "      <td>-0.241462</td>\n",
       "      <td>-0.25287</td>\n",
       "      <td>-0.363765</td>\n",
       "      <td>-0.217262</td>\n",
       "      <td>-0.136775</td>\n",
       "      <td>-0.142979</td>\n",
       "      <td>-0.148944</td>\n",
       "    </tr>\n",
       "  </tbody>\n",
       "</table>\n",
       "<p>5 rows × 50 columns</p>\n",
       "</div>"
      ],
      "text/plain": [
       "   store_id    active  city_Aurora  city_London  country_China  country_India  \\\n",
       "0 -0.915108  0.160265     -0.05788     -0.05788       -0.31156      -0.333642   \n",
       "1 -0.915108  0.160265     -0.05788     -0.05788       -0.31156      -0.333642   \n",
       "2 -0.915108  0.160265     -0.05788     -0.05788       -0.31156      -0.333642   \n",
       "3  1.092767  0.160265     -0.05788     -0.05788       -0.31156      -0.333642   \n",
       "4 -0.915108  0.160265     -0.05788     -0.05788       -0.31156      -0.333642   \n",
       "\n",
       "   total_dvds  ave_rent_time  total_rental_custom_days  max_dvd_amount  \\\n",
       "0    1.021400      -1.212015                 -0.534638        0.596795   \n",
       "1    0.042177       0.463363                 -0.547484        1.372224   \n",
       "2   -0.153668       1.580281                 -0.560330        1.372224   \n",
       "3   -0.937046      -1.770474                 -0.804402       -0.178633   \n",
       "4    2.196467      -0.095097                  1.674857        0.596795   \n",
       "\n",
       "            ...            fav_category_Games  fav_category_Horror  \\\n",
       "0           ...                     -0.195265            -0.195265   \n",
       "1           ...                     -0.195265            -0.195265   \n",
       "2           ...                     -0.195265            -0.195265   \n",
       "3           ...                     -0.195265            -0.195265   \n",
       "4           ...                     -0.195265            -0.195265   \n",
       "\n",
       "   fav_category_Music  fav_category_New  fav_category_Sci-Fi  \\\n",
       "0           -0.225560         -0.241462             -0.25287   \n",
       "1           -0.225560         -0.241462             -0.25287   \n",
       "2            4.433415         -0.241462             -0.25287   \n",
       "3           -0.225560         -0.241462             -0.25287   \n",
       "4           -0.225560         -0.241462             -0.25287   \n",
       "\n",
       "   fav_category_Sports  fav_category_Travel  fav_actor_Jayne_Nolte  \\\n",
       "0            -0.363765            -0.217262              -0.136775   \n",
       "1             2.749026            -0.217262              -0.136775   \n",
       "2            -0.363765            -0.217262               7.311262   \n",
       "3            -0.363765            -0.217262              -0.136775   \n",
       "4            -0.363765            -0.217262              -0.136775   \n",
       "\n",
       "   fav_actor_Renee_Tracy  fav_actor_Sidney_Crowe  \n",
       "0              -0.142979               -0.148944  \n",
       "1              -0.142979               -0.148944  \n",
       "2              -0.142979               -0.148944  \n",
       "3              -0.142979               -0.148944  \n",
       "4              -0.142979               -0.148944  \n",
       "\n",
       "[5 rows x 50 columns]"
      ]
     },
     "execution_count": 273,
     "metadata": {},
     "output_type": "execute_result"
    }
   ],
   "source": [
    "customer_data.head()"
   ]
  },
  {
   "cell_type": "markdown",
   "metadata": {},
   "source": [
    "<br />"
   ]
  },
  {
   "cell_type": "markdown",
   "metadata": {},
   "source": [
    "<br />"
   ]
  },
  {
   "cell_type": "markdown",
   "metadata": {},
   "source": [
    "<br />"
   ]
  },
  {
   "cell_type": "markdown",
   "metadata": {},
   "source": [
    "<br />"
   ]
  },
  {
   "cell_type": "markdown",
   "metadata": {},
   "source": [
    "And finally: \n",
    "\n",
    "## Cluster\n",
    "\n",
    "(and PCA)"
   ]
  },
  {
   "cell_type": "code",
   "execution_count": 275,
   "metadata": {},
   "outputs": [
    {
     "name": "stdout",
     "output_type": "stream",
     "text": [
      "pca_components  25    describe  0.6945709877420538\n",
      "kmeans, 3 clusters:    calinski_harabaz_score 31.069651746409004     silhouette_score 0.04902108167832047 \n",
      "\n",
      "pca_components  25    describe  0.6945709877420538\n",
      "kmeans, 6 clusters:    calinski_harabaz_score 23.53672256261991     silhouette_score 0.060831705329709926 \n",
      "\n",
      "pca_components  25    describe  0.6945709877420538\n",
      "kmeans, 12 clusters:    calinski_harabaz_score 23.238773956466495     silhouette_score 0.11794422676859828 \n",
      "\n",
      "pca_components  35    describe  0.8693739769924131\n",
      "kmeans, 3 clusters:    calinski_harabaz_score 24.766559774690986     silhouette_score 0.05181570576869992 \n",
      "\n",
      "pca_components  35    describe  0.8693739769924131\n",
      "kmeans, 6 clusters:    calinski_harabaz_score 19.676805670919894     silhouette_score 0.04233972871701674 \n",
      "\n",
      "pca_components  35    describe  0.8693739769924131\n",
      "kmeans, 12 clusters:    calinski_harabaz_score 20.276667304666802     silhouette_score 0.10856056807847157 \n",
      "\n",
      "pca_components  45    describe  0.991357128299547\n",
      "kmeans, 3 clusters:    calinski_harabaz_score 21.66959932575064     silhouette_score 0.04954785051126314 \n",
      "\n",
      "pca_components  45    describe  0.991357128299547\n",
      "kmeans, 6 clusters:    calinski_harabaz_score 17.219179487753287     silhouette_score 0.04955180504839925 \n",
      "\n",
      "pca_components  45    describe  0.991357128299547\n",
      "kmeans, 12 clusters:    calinski_harabaz_score 17.81216404871383     silhouette_score 0.10244984543956712 \n",
      "\n"
     ]
    }
   ],
   "source": [
    "pca_components = [25, 35, 45]\n",
    "clusters = [3, 6, 12]\n",
    "for cmp in pca_components:\n",
    "    for k in clusters:\n",
    "        df = customer_data.copy()\n",
    "        # reduce features\n",
    "        pca_df = pca_reduce(df, cmp)\n",
    "        \n",
    "        #cluster!\n",
    "        model = train_kmeans(pca_df, k)\n",
    "        "
   ]
  },
  {
   "cell_type": "code",
   "execution_count": 276,
   "metadata": {},
   "outputs": [
    {
     "name": "stdout",
     "output_type": "stream",
     "text": [
      "pca_components  35    describe  0.8693739769924131\n",
      "kmeans, 3 clusters:    calinski_harabaz_score 24.766559774690986     silhouette_score 0.05181570576869992 \n",
      "\n"
     ]
    }
   ],
   "source": [
    "pca_df = pca_reduce(df, 35)\n",
    "model = train_kmeans(pca_df, 3)"
   ]
  },
  {
   "cell_type": "markdown",
   "metadata": {},
   "source": [
    "<br />"
   ]
  },
  {
   "cell_type": "markdown",
   "metadata": {},
   "source": [
    "<br />"
   ]
  },
  {
   "cell_type": "markdown",
   "metadata": {},
   "source": [
    "<br />"
   ]
  },
  {
   "cell_type": "markdown",
   "metadata": {},
   "source": [
    "<br />"
   ]
  },
  {
   "cell_type": "markdown",
   "metadata": {},
   "source": [
    "## Let's explore the clusters\n",
    "\n",
    "#### 3D view\n",
    "\n",
    "It can help to plot a 3-D PCA of the clusters with lables to get a feel for the clusters."
   ]
  },
  {
   "cell_type": "code",
   "execution_count": 277,
   "metadata": {},
   "outputs": [],
   "source": [
    "def pca_3d(df):   \n",
    "    pca = PCA(n_components=3, \n",
    "          copy=True, \n",
    "          whiten=False, \n",
    "          svd_solver='auto', \n",
    "          tol=0.0, \n",
    "          iterated_power='auto', \n",
    "          random_state=0)\n",
    "    X_pca = pca.fit(df)\n",
    "    trans_pca = X_pca.transform(df)\n",
    "    pca3_df = pd.DataFrame(trans_pca)\n",
    "    pca3_df.columns = ['x','y','z']\n",
    "    print('explained_variance_ratio', X_pca.explained_variance_ratio_)\n",
    "    \n",
    "    return pca3_df"
   ]
  },
  {
   "cell_type": "markdown",
   "metadata": {},
   "source": [
    "Add cluster labels to the 3D view of the clusters, as well as the original feature set."
   ]
  },
  {
   "cell_type": "code",
   "execution_count": 278,
   "metadata": {
    "scrolled": true
   },
   "outputs": [
    {
     "name": "stdout",
     "output_type": "stream",
     "text": [
      "explained_variance_ratio [0.08658236 0.04585693 0.04056917]\n"
     ]
    }
   ],
   "source": [
    "pca3_df = pca_3d(pca_df)\n",
    "\n",
    "clusters = pd.DataFrame(model.labels_)\n",
    "clusters.columns = ['clusters']\n",
    "\n",
    "df_3d = pd.concat([pca3_df, clusters], axis=1, join='inner')\n"
   ]
  },
  {
   "cell_type": "markdown",
   "metadata": {},
   "source": [
    "##### Our explained variance ratio is terrible!\n",
    "Clearly we have too many features of too little importance. If we plot against these unimportant features, I don't think we will see distinct groupings. </br>\n",
    "</br>"
   ]
  },
  {
   "cell_type": "code",
   "execution_count": 280,
   "metadata": {},
   "outputs": [],
   "source": [
    "plt.rcParams['figure.figsize'] = (12, 8)"
   ]
  },
  {
   "cell_type": "code",
   "execution_count": 294,
   "metadata": {},
   "outputs": [
    {
     "data": {
      "image/png": "[encoded data removed]",
      "text/plain": [
       "<Figure size 864x576 with 1 Axes>"
      ]
     },
     "metadata": {},
     "output_type": "display_data"
    }
   ],
   "source": [
    "fig, ax = plt.subplots(ncols=1, nrows=1)\n",
    "ax.scatter(df_3d.x.values, df_3d.y.values, s=50, lw=0,\n",
    "           c=df_3d.clusters.values, cmap='plasma', alpha=0.8)\n",
    "\n",
    "ax.set_xlabel('x')\n",
    "ax.set_ylabel('y')\n",
    "plt.show()"
   ]
  },
  {
   "cell_type": "code",
   "execution_count": 295,
   "metadata": {},
   "outputs": [
    {
     "data": {
      "image/png": "[encoded data removed]",
      "text/plain": [
       "<Figure size 864x576 with 1 Axes>"
      ]
     },
     "metadata": {},
     "output_type": "display_data"
    }
   ],
   "source": [
    "fig, ax = plt.subplots(ncols=1, nrows=1)\n",
    "ax.scatter(df_3d.x.values, df_3d.z.values, s=50, lw=0,\n",
    "           c=df_3d.clusters.values, cmap='plasma', alpha=0.8)\n",
    "\n",
    "ax.set_xlabel('x')\n",
    "ax.set_ylabel('z')\n",
    "plt.show()"
   ]
  },
  {
   "cell_type": "code",
   "execution_count": 297,
   "metadata": {},
   "outputs": [
    {
     "data": {
      "image/png": "[encoded data removed]",
      "text/plain": [
       "<Figure size 864x576 with 1 Axes>"
      ]
     },
     "metadata": {},
     "output_type": "display_data"
    }
   ],
   "source": [
    "fig, ax = plt.subplots(ncols=1, nrows=1)\n",
    "ax.scatter(df_3d.y.values, df_3d.z.values, s=50, lw=0,\n",
    "           c=df_3d.clusters.values, cmap='plasma', alpha=0.8)\n",
    "\n",
    "ax.set_xlabel('y')\n",
    "ax.set_ylabel('z')\n",
    "plt.show()"
   ]
  },
  {
   "cell_type": "markdown",
   "metadata": {},
   "source": [
    "<br />"
   ]
  },
  {
   "cell_type": "markdown",
   "metadata": {},
   "source": [
    "<br />"
   ]
  },
  {
   "cell_type": "markdown",
   "metadata": {},
   "source": [
    "<br />"
   ]
  },
  {
   "cell_type": "markdown",
   "metadata": {},
   "source": [
    "<br />"
   ]
  },
  {
   "cell_type": "markdown",
   "metadata": {},
   "source": [
    "### What about features vs cluster?"
   ]
  },
  {
   "cell_type": "code",
   "execution_count": 301,
   "metadata": {},
   "outputs": [],
   "source": [
    "features = view_data.groupby('customer_id').median().reset_index()\n",
    "cluster_features = pd.concat([features, clusters], axis=1, join='inner')"
   ]
  },
  {
   "cell_type": "code",
   "execution_count": 302,
   "metadata": {
    "scrolled": true
   },
   "outputs": [
    {
     "name": "stdout",
     "output_type": "stream",
     "text": [
      "<class 'pandas.core.frame.DataFrame'>\n",
      "RangeIndex: 599 entries, 0 to 598\n",
      "Data columns (total 27 columns):\n",
      "customer_id                 599 non-null int64\n",
      "store_id                    599 non-null int64\n",
      "active                      599 non-null float64\n",
      "amount                      599 non-null float64\n",
      "length                      599 non-null float64\n",
      "total_dvds                  599 non-null int64\n",
      "ave_rent_time               599 non-null float64\n",
      "total_rental_custom_days    599 non-null float64\n",
      "max_dvd_amount              599 non-null float64\n",
      "min_dvd_amount              599 non-null float64\n",
      "ave_dvd_amount              599 non-null float64\n",
      "ave_dvds_order              599 non-null float64\n",
      "max_dvds_order              599 non-null int64\n",
      "max_order_amount            599 non-null float64\n",
      "ave_order_amount            599 non-null float64\n",
      "total_lifetime_amount       599 non-null float64\n",
      "total_rental_orders         599 non-null int64\n",
      "max_length                  599 non-null float64\n",
      "ave_length                  599 non-null float64\n",
      "kids                        599 non-null int64\n",
      "sports                      599 non-null int64\n",
      "foreign                     599 non-null int64\n",
      "fav_category_Comedy         599 non-null uint8\n",
      "fav_category_Drama          599 non-null uint8\n",
      "fav_category_Horror         599 non-null uint8\n",
      "fav_category_Sci-Fi         599 non-null uint8\n",
      "clusters                    599 non-null int32\n",
      "dtypes: float64(14), int32(1), int64(8), uint8(4)\n",
      "memory usage: 107.7 KB\n"
     ]
    }
   ],
   "source": [
    "cluster_features.info()"
   ]
  },
  {
   "cell_type": "code",
   "execution_count": 304,
   "metadata": {},
   "outputs": [
    {
     "data": {
      "image/png": "[encoded data removed]",
      "text/plain": [
       "<Figure size 864x576 with 1 Axes>"
      ]
     },
     "metadata": {},
     "output_type": "display_data"
    }
   ],
   "source": [
    "fig, ax = plt.subplots(ncols=1, nrows=1)\n",
    "ax.scatter(cluster_features.total_lifetime_amount.values, cluster_features.kids.values, s=50, lw=0,\n",
    "           c=cluster_features.clusters.values, cmap='plasma', alpha=0.8)\n",
    "\n",
    "ax.set_xlabel('total_lifetime_amount')\n",
    "ax.set_ylabel('kids')\n",
    "plt.show()"
   ]
  },
  {
   "cell_type": "code",
   "execution_count": 309,
   "metadata": {},
   "outputs": [
    {
     "data": {
      "image/png": "[encoded data removed]",
      "text/plain": [
       "<Figure size 864x576 with 1 Axes>"
      ]
     },
     "metadata": {},
     "output_type": "display_data"
    }
   ],
   "source": [
    "fig, ax = plt.subplots(ncols=1, nrows=1)\n",
    "ax.scatter(cluster_features.max_order_amount.values, cluster_features.length.values, s=50, lw=0,\n",
    "           c=cluster_features.clusters.values, cmap='plasma', alpha=0.8)\n",
    "\n",
    "ax.set_xlabel('max_order_amount')\n",
    "ax.set_ylabel('length')\n",
    "plt.show()"
   ]
  },
  {
   "cell_type": "markdown",
   "metadata": {},
   "source": [
    "<br />"
   ]
  },
  {
   "cell_type": "markdown",
   "metadata": {},
   "source": [
    "<br />"
   ]
  },
  {
   "cell_type": "markdown",
   "metadata": {},
   "source": [
    "<br />"
   ]
  },
  {
   "cell_type": "markdown",
   "metadata": {},
   "source": [
    "<br />"
   ]
  },
  {
   "cell_type": "markdown",
   "metadata": {},
   "source": [
    "![](slides/google_dataproc.png)"
   ]
  },
  {
   "cell_type": "markdown",
   "metadata": {},
   "source": [
    "<br />"
   ]
  },
  {
   "cell_type": "markdown",
   "metadata": {},
   "source": [
    "<br />"
   ]
  },
  {
   "cell_type": "markdown",
   "metadata": {},
   "source": [
    "<br />"
   ]
  },
  {
   "cell_type": "markdown",
   "metadata": {},
   "source": [
    "<br />"
   ]
  },
  {
   "cell_type": "markdown",
   "metadata": {},
   "source": [
    "## The fun part: tweaking the weights and designing new features!"
   ]
  },
  {
   "cell_type": "code",
   "execution_count": 284,
   "metadata": {},
   "outputs": [],
   "source": [
    "# more weight:\n",
    "weight_up = 1.2\n",
    "customer_data['max_dvd_amount'] = customer_data['max_dvd_amount']*(weight_up)\n",
    "customer_data['total_lifetime_amount'] = customer_data['total_lifetime_amount']*(weight_up)\n",
    "\n",
    "# less weight:\n",
    "weight_down = 0.8\n",
    "customer_data['min_dvd_amount'] = customer_data['min_dvd_amount']*(weight_down)\n",
    "customer_data['foreign'] = customer_data['foreign']*(weight_down)\n"
   ]
  },
  {
   "cell_type": "code",
   "execution_count": 285,
   "metadata": {},
   "outputs": [],
   "source": [
    "customer_data['ave_rental_freq'] = (customer_data['total_rental_custom_days'] / customer_data['total_rental_orders'])\n"
   ]
  },
  {
   "cell_type": "markdown",
   "metadata": {},
   "source": [
    "<br />"
   ]
  },
  {
   "cell_type": "markdown",
   "metadata": {},
   "source": [
    "<br />"
   ]
  },
  {
   "cell_type": "markdown",
   "metadata": {},
   "source": [
    "<br />"
   ]
  },
  {
   "cell_type": "markdown",
   "metadata": {},
   "source": [
    "<br />"
   ]
  },
  {
   "cell_type": "markdown",
   "metadata": {},
   "source": [
    "## Some more algorithms to play with"
   ]
  },
  {
   "cell_type": "code",
   "execution_count": 286,
   "metadata": {},
   "outputs": [],
   "source": [
    "from sklearn.cluster import Birch,MiniBatchKMeans,AgglomerativeClustering\n"
   ]
  },
  {
   "cell_type": "code",
   "execution_count": 287,
   "metadata": {},
   "outputs": [],
   "source": [
    "def train_birch(x,k):\n",
    "    # Fit Birch clusters using Characteristic Feature Tree (CFT) algorithm.\n",
    "    # The algorthm has two limiting factors: the branching factor limits the number of subclusters per node, \n",
    "    # and the threshold limits the distance between a new point and an existing subcluster.\n",
    "    # CF subclusters retain the subscluster information such as linear sums, squared sums, and centroids of subclusters.\n",
    "    # A new point is merged with a subcluster which has the smallest radius after merging.\n",
    "    # This is contrained by the limiting factors, else the point becomes its own new subcluster.\n",
    "    # Birch allows online-learning memory efficient a;ternative to minibatch kmeans, which doesn't require redrawing the tree.\n",
    "    # http://scikit-learn.org/stable/modules/clustering.html for more reading.\n",
    "    \n",
    "    # Input parameters : \n",
    "    # x: dataframe of features\n",
    "    # i: number of clusters\n",
    "    \n",
    "    # Output :\n",
    "    # trained model\n",
    "    \n",
    "    from sklearn.cluster import Birch\n",
    "    from sklearn import metrics\n",
    "\n",
    "    brch = Birch(branching_factor=50, n_clusters=None, threshold=0.1, compute_labels=True, copy=True)\n",
    "    brch.partial_fit(x)\n",
    "    brch.set_params(n_clusters=k)\n",
    "    brch.partial_fit()\n",
    "    brch.partial_fit()\n",
    "    brch.fit(x)\n",
    "    brchlabels=brch.labels_\n",
    "    print(\"birch,\", k, \"clusters:   \",\n",
    "          \"calinski_harabaz_score\", calinski_harabaz_score(x, KMModel.labels_), \"   \",\n",
    "          \"silhouette_score\", silhouette_score(x, KMModel.labels_),'\\n' )\n",
    "    return brch"
   ]
  },
  {
   "cell_type": "code",
   "execution_count": 288,
   "metadata": {},
   "outputs": [],
   "source": [
    "def train_ward(x,k):\n",
    "    # Fit Agglomerative clusters with ward clustering \n",
    "    # Agglomerative clusters use a hierarchical approach: all points start as their own clusters and then lerge into new clusters depending on certain criteria\n",
    "    # Ward reduces the sum of the squared distances inside all clusters, meaning the clusters are tighly grouped,\n",
    "    # and is ideal for many, evenly sized clusters in Euclidean space\n",
    "    # When there is no connectivity matrix supplied, this is computationally expensive as it consideres each possible combination\n",
    "    # http://scikit-learn.org/stable/modules/clustering.html for more reading.\n",
    "    \n",
    "    # Input parameters : \n",
    "    # x: dataframe of features\n",
    "    # i: number of clusters\n",
    "    \n",
    "    # Output :\n",
    "    # trained model\n",
    "    \n",
    "    from sklearn.cluster import AgglomerativeClustering\n",
    "    from sklearn import metrics\n",
    "\n",
    "    agglom = AgglomerativeClustering(linkage='ward', n_clusters=k)\n",
    "    agglom.fit(x)\n",
    "    aglabels=agglom.labels_\n",
    "    print(\"ward,\", k, \"clusters:   \",\n",
    "          \"calinski_harabaz_score\", calinski_harabaz_score(x, KMModel.labels_), \"   \",\n",
    "          \"silhouette_score\", silhouette_score(x, KMModel.labels_),'\\n' )\n",
    "    return agglom"
   ]
  },
  {
   "cell_type": "code",
   "execution_count": 289,
   "metadata": {},
   "outputs": [],
   "source": [
    "def train_cosagglom(x,k):\n",
    "    # Fit Agglomerative clusters with ward clustering \n",
    "    # Agglomerative clusters use a hierarchical approach: all points start as their own clusters and then lerge into new clusters depending on certain criteria\n",
    "    # Average linkage minimises the distances between centroids, giving clusters grouped evenly together,\n",
    "    # and can be used with Euclidean space as well as Cosine or Manhattan distance.\n",
    "    # When there is no connectivity matrix supplied, this is computationally expensive as it consideres each possible combination\n",
    "    # http://scikit-learn.org/stable/modules/clustering.html for more reading.\n",
    "    \n",
    "    # Input parameters : \n",
    "    # x: dataframe of features\n",
    "    # i: number of clusters\n",
    "    \n",
    "    # Output :\n",
    "    # trained model\n",
    "    \n",
    "    from sklearn.cluster import AgglomerativeClustering\n",
    "    from sklearn import metrics\n",
    "\n",
    "    csagglom = AgglomerativeClustering(linkage='average', n_clusters=k, affinity='cosine', compute_full_tree=False)\n",
    "    csagglom.fit(x)\n",
    "    csaglabels=csagglom.labels_\n",
    "    print(\"cosine,\", k, \"clusters:   \",\n",
    "          \"calinski_harabaz_score\", calinski_harabaz_score(x, KMModel.labels_), \"   \",\n",
    "          \"silhouette_score\", silhouette_score(x, KMModel.labels_),'\\n' )\n",
    "    return csagglom"
   ]
  },
  {
   "cell_type": "code",
   "execution_count": 290,
   "metadata": {},
   "outputs": [],
   "source": [
    "def train_minibatch(x,k):\n",
    "    # Fit MiniBatchKMeans clusters using Characteristic Feature Tree (CFT) algorithm.\n",
    "    # The algorthm has two limiting factors: the branching factor limits the number of subclusters per node, \n",
    "    # and the threshold limits the distance between a new point and an existing subcluster.\n",
    "    # CF subclusters retain the subscluster information such as linear sums, squared sums, and centroids of subclusters.\n",
    "    # A new point is merged with a subcluster which has the smallest radius after merging.\n",
    "    # This is contrained by the limiting factors, else the point becomes its own new subcluster.\n",
    "    # MiniBatchKMeans is good for high-dimensional datasets with many features.\n",
    "    # http://scikit-learn.org/stable/modules/clustering.html for more reading.\n",
    "    \n",
    "    # Input parameters : \n",
    "    # x: dataframe of features\n",
    "    # i: number of clusters\n",
    "    \n",
    "    # Output :\n",
    "    # trained model\n",
    "    \n",
    "    from sklearn.cluster import MiniBatchKMeans\n",
    "    from sklearn import metrics\n",
    "\n",
    "    minibatchm = MiniBatchKMeans(init='k-means++', n_clusters=k, batch_size=3*k,\n",
    "                      n_init=10, max_no_improvement=20, verbose=0,\n",
    "                      random_state=0)\n",
    "    minibatchm.fit(x)\n",
    "    minilabels=minibatchm.labels_\n",
    "    print(\"minibatch,\", k, \"clusters:   \",\n",
    "          \"calinski_harabaz_score\", calinski_harabaz_score(x, KMModel.labels_), \"   \",\n",
    "          \"silhouette_score\", silhouette_score(x, KMModel.labels_),'\\n' )\n",
    "    return minibatchm"
   ]
  },
  {
   "cell_type": "markdown",
   "metadata": {},
   "source": [
    "<br />"
   ]
  },
  {
   "cell_type": "markdown",
   "metadata": {},
   "source": [
    "<br />"
   ]
  },
  {
   "cell_type": "markdown",
   "metadata": {},
   "source": [
    "<br />"
   ]
  },
  {
   "cell_type": "markdown",
   "metadata": {},
   "source": [
    "<br />"
   ]
  },
  {
   "cell_type": "markdown",
   "metadata": {},
   "source": [
    "![](slides/slide7.png)"
   ]
  },
  {
   "cell_type": "markdown",
   "metadata": {},
   "source": [
    "<br />"
   ]
  },
  {
   "cell_type": "markdown",
   "metadata": {},
   "source": [
    "<br />"
   ]
  },
  {
   "cell_type": "markdown",
   "metadata": {},
   "source": [
    "<br />"
   ]
  },
  {
   "cell_type": "markdown",
   "metadata": {},
   "source": [
    "<br />"
   ]
  },
  {
   "cell_type": "markdown",
   "metadata": {},
   "source": [
    "![](slides/slide8.png)"
   ]
  },
  {
   "cell_type": "markdown",
   "metadata": {},
   "source": [
    "<br />"
   ]
  },
  {
   "cell_type": "markdown",
   "metadata": {},
   "source": [
    "<br />"
   ]
  },
  {
   "cell_type": "markdown",
   "metadata": {},
   "source": [
    "<br />"
   ]
  },
  {
   "cell_type": "markdown",
   "metadata": {},
   "source": [
    "<br />"
   ]
  },
  {
   "cell_type": "markdown",
   "metadata": {},
   "source": [
    "![](slides/slide9.png)"
   ]
  },
  {
   "cell_type": "markdown",
   "metadata": {},
   "source": [
    "<br />"
   ]
  },
  {
   "cell_type": "markdown",
   "metadata": {},
   "source": [
    "<br />"
   ]
  },
  {
   "cell_type": "markdown",
   "metadata": {},
   "source": [
    "<br />"
   ]
  },
  {
   "cell_type": "markdown",
   "metadata": {},
   "source": [
    "<br />"
   ]
  },
  {
   "cell_type": "markdown",
   "metadata": {},
   "source": [
    "![](slides/slide102.png)"
   ]
  },
  {
   "cell_type": "markdown",
   "metadata": {},
   "source": [
    "<br />"
   ]
  },
  {
   "cell_type": "markdown",
   "metadata": {},
   "source": [
    "<br />"
   ]
  },
  {
   "cell_type": "markdown",
   "metadata": {},
   "source": [
    "<br />"
   ]
  }
 ],
 "metadata": {
  "kernelspec": {
   "display_name": "Python 3",
   "language": "python",
   "name": "python3"
  },
  "language_info": {
   "codemirror_mode": {
    "name": "ipython",
    "version": 3
   },
   "file_extension": ".py",
   "mimetype": "text/x-python",
   "name": "python",
   "nbconvert_exporter": "python",
   "pygments_lexer": "ipython3",
   "version": "3.7.0"
  }
 },
 "nbformat": 4,
 "nbformat_minor": 2
}
